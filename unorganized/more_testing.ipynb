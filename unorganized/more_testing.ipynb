{
 "cells": [
  {
   "cell_type": "code",
   "execution_count": 1,
   "metadata": {},
   "outputs": [],
   "source": [
    "import numpy as np\n",
    "from astropy.io import fits\n",
    "import pandas as pd"
   ]
  },
  {
   "cell_type": "code",
   "execution_count": 4,
   "metadata": {},
   "outputs": [
    {
     "name": "stderr",
     "output_type": "stream",
     "text": [
      "/var/folders/6x/hz5y30457mqg1y9dl2fg7r5m00034d/T/ipykernel_34251/3238967991.py:3: DtypeWarning: Columns (57,61,62) have mixed types. Specify dtype option on import or set low_memory=False.\n",
      "  data=pd.read_csv(filename)\n"
     ]
    }
   ],
   "source": [
    "#Read CSC 2.1 into dataframe\n",
    "filename='/Users/kciurleo/Documents/kciurleo/AGN/unorganized/CSC2.1p_OIR_SDSSspecmatch.csv'\n",
    "data=pd.read_csv(filename)\n",
    "columns = data.columns"
   ]
  },
  {
   "cell_type": "code",
   "execution_count": 5,
   "metadata": {},
   "outputs": [],
   "source": [
    "#Classified by this group as AGN, I don't actually use this\n",
    "AGN = data.loc[data['SUBCLASS']=='AGN']"
   ]
  },
  {
   "cell_type": "code",
   "execution_count": 6,
   "metadata": {},
   "outputs": [
    {
     "name": "stdout",
     "output_type": "stream",
     "text": [
      "All source count:17666, 369775 not observed with SDSS\n",
      "Point source count:16022, removed 1644\n"
     ]
    }
   ],
   "source": [
    "#Find only sources with SDSS data\n",
    "sources = data.dropna(subset=['Sep_SPEC_CSC21P'])\n",
    "print(f'All source count:{len(sources)}, {len(data)-len(sources)} not observed with SDSS')\n",
    "\n",
    "#Find only non-extended CSC sources\n",
    "point_sources = sources.loc[sources['extent_flag']==False]\n",
    "print(f'Point source count:{len(point_sources)}, removed {len(sources)-len(point_sources)}')"
   ]
  },
  {
   "cell_type": "code",
   "execution_count": 29,
   "metadata": {},
   "outputs": [],
   "source": [
    "#Write SQL Query Text\n",
    "query = open('/Users/kciurleo/Documents/kciurleo/AGN/unorganized/portsmouth_query.txt','w')\n",
    "\n",
    "#First bit of SQL; ask for objID and bpt categorization\n",
    "query.write('SELECT specobjID, bpt FROM emissionLinesPort WHERE EXISTS (SELECT 1 FROM (VALUES ')\n",
    "\n",
    "#Get all SDSS plate, MJD, fiber ID for query\n",
    "values =''\n",
    "for index, row in point_sources.iterrows():\n",
    "    values+=f\"({row['PLATE']}, {row['MJD']}, {row['FIBERID']}),\"\n",
    "\n",
    "#Remove the last comma\n",
    "query.write(values[0:len(values)-1])\n",
    "\n",
    "#Last bit of SQL\n",
    "query.write(') AS t(plate_val, mjd_val, fiberID_val) WHERE plate = t.plate_val AND mjd = t.mjd_val AND fiberID = t.fiberID_val)')\n",
    "query.close()"
   ]
  }
 ],
 "metadata": {
  "kernelspec": {
   "display_name": "ciao-4.16",
   "language": "python",
   "name": "python3"
  },
  "language_info": {
   "codemirror_mode": {
    "name": "ipython",
    "version": 3
   },
   "file_extension": ".py",
   "mimetype": "text/x-python",
   "name": "python",
   "nbconvert_exporter": "python",
   "pygments_lexer": "ipython3",
   "version": "3.11.9"
  }
 },
 "nbformat": 4,
 "nbformat_minor": 2
}
