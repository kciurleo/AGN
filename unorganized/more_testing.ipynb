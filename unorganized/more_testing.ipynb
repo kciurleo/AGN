{
 "cells": [
  {
   "cell_type": "code",
   "execution_count": 40,
   "metadata": {},
   "outputs": [],
   "source": [
    "import numpy as np\n",
    "from astropy.io import fits\n",
    "import pandas as pd\n"
   ]
  },
  {
   "cell_type": "code",
   "execution_count": 97,
   "metadata": {},
   "outputs": [
    {
     "name": "stderr",
     "output_type": "stream",
     "text": [
      "/var/folders/6x/hz5y30457mqg1y9dl2fg7r5m00034d/T/ipykernel_14934/408605820.py:2: DtypeWarning: Columns (57,61,62) have mixed types. Specify dtype option on import or set low_memory=False.\n",
      "  data=pd.read_csv(filename)\n"
     ]
    }
   ],
   "source": [
    "#Read CSC 2.1 into dataframe\n",
    "filename='/Users/kciurleo/Documents/kciurleo/unorganized/CSC2.1p_OIR_SDSSspecmatch.csv'\n",
    "data=pd.read_csv(filename)\n",
    "columns = data.columns"
   ]
  },
  {
   "cell_type": "code",
   "execution_count": null,
   "metadata": {},
   "outputs": [],
   "source": [
    "#Classified by this group as AGN, I don't actually use this\n",
    "AGN = data.loc[data['SUBCLASS']=='AGN']"
   ]
  },
  {
   "cell_type": "code",
   "execution_count": 132,
   "metadata": {},
   "outputs": [
    {
     "name": "stdout",
     "output_type": "stream",
     "text": [
      "All source count:17666, 369775 not observed with SDSS\n",
      "Point source count:16022, removed 1644\n"
     ]
    }
   ],
   "source": [
    "#Find only sources with SDSS data\n",
    "sources = data.dropna(subset=['Sep_SPEC_CSC21P'])\n",
    "print(f'All source count:{len(sources)}, {len(data)-len(sources)} not observed with SDSS')\n",
    "\n",
    "#Find only non-extended CSC sources\n",
    "point_sources = sources.loc[sources['extent_flag']==False]\n",
    "print(f'Point source count:{len(point_sources)}, removed {len(sources)-len(point_sources)}')"
   ]
  },
  {
   "cell_type": "code",
   "execution_count": 137,
   "metadata": {},
   "outputs": [
    {
     "data": {
      "text/plain": [
       "13        391.0\n",
       "21        492.0\n",
       "39        446.0\n",
       "48         17.0\n",
       "68         82.0\n",
       "          ...  \n",
       "387413    394.0\n",
       "387422    922.0\n",
       "387423    234.0\n",
       "387426     17.0\n",
       "387439    544.0\n",
       "Name: FIBERID, Length: 16022, dtype: float64"
      ]
     },
     "execution_count": 137,
     "metadata": {},
     "output_type": "execute_result"
    }
   ],
   "source": []
  },
  {
   "cell_type": "code",
   "execution_count": 118,
   "metadata": {},
   "outputs": [
    {
     "data": {
      "text/plain": [
       "Index(['CSC21P_name', 'ra', 'dec', 'likelihood_class', 'extent_flag',\n",
       "       'err_ellipse_r0', 'err_ellipse_r1', 'err_ellipse_ang', 'significance',\n",
       "       'flux_aper_b', 'flux_aper_lolim_b', 'flux_aper_hilim_b', 'flux_aper_h',\n",
       "       'flux_aper_lolim_h', 'flux_aper_hilim_h', 'flux_aper_m',\n",
       "       'flux_aper_lolim_m', 'flux_aper_hilim_m', 'flux_aper_s',\n",
       "       'flux_aper_lolim_s', 'flux_aper_hilim_s', 'flux_aper_w',\n",
       "       'flux_aper_lolim_w', 'flux_aper_hilim_w', 'csc2.1_flag', 'PS21P_objID',\n",
       "       'PS21P_ippObjID', 'PS21P_ra', 'PS21P_dec', 'Sep_PS21P_CSC21P',\n",
       "       'PS21P_g', 'PS21P_r', 'PS21P_i', 'PS21P_z', 'GAIA21P_source_id',\n",
       "       'GAIA21P_ra', 'GAIA21P_dec', 'Sep_GAIA21P_CSC21P', 'GAIA21P_g',\n",
       "       'LEG21P_LS_ID', 'LEG21P_OBJID', 'LEG21P_RA', 'LEG21P_DEC',\n",
       "       'Sep_LEG21P_CSC21P', 'LEG21P_G', 'LEG21P_R', 'LEG21P_Z',\n",
       "       '2MASS21P_designation', '2MASS21P_ra', '2MASS21P_dec',\n",
       "       'Sep_2MASS21P_CSC21P', '2MASS21P_j_m', '2MASS21P_h_m', '2MASS21P_k_m',\n",
       "       'PLUG_RA', 'PLUG_DEC', 'NSPECOBS', 'SOURCETYPE', 'PLATE', 'MJD',\n",
       "       'FIBERID', 'CLASS', 'SUBCLASS', 'Z', 'Z_ERR', 'RCHI2', 'DOF', 'WAVEMIN',\n",
       "       'WAVEMAX', 'ZWARNING', 'SN_MEDIAN_ALL', 'GroupID', 'GroupSize',\n",
       "       'Sep_SPEC_CSC21P'],\n",
       "      dtype='object')"
      ]
     },
     "execution_count": 118,
     "metadata": {},
     "output_type": "execute_result"
    }
   ],
   "source": [
    "columns"
   ]
  }
 ],
 "metadata": {
  "kernelspec": {
   "display_name": "ciao-4.16",
   "language": "python",
   "name": "python3"
  },
  "language_info": {
   "codemirror_mode": {
    "name": "ipython",
    "version": 3
   },
   "file_extension": ".py",
   "mimetype": "text/x-python",
   "name": "python",
   "nbconvert_exporter": "python",
   "pygments_lexer": "ipython3",
   "version": "3.11.9"
  }
 },
 "nbformat": 4,
 "nbformat_minor": 2
}
