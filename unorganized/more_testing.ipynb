{
 "cells": [
  {
   "cell_type": "code",
   "execution_count": 137,
   "metadata": {},
   "outputs": [],
   "source": [
    "import pandas as pd"
   ]
  },
  {
   "cell_type": "code",
   "execution_count": 138,
   "metadata": {},
   "outputs": [
    {
     "name": "stderr",
     "output_type": "stream",
     "text": [
      "/var/folders/6x/hz5y30457mqg1y9dl2fg7r5m00034d/T/ipykernel_34251/3238967991.py:3: DtypeWarning: Columns (57,61,62) have mixed types. Specify dtype option on import or set low_memory=False.\n",
      "  data=pd.read_csv(filename)\n"
     ]
    }
   ],
   "source": [
    "#Read CSC 2.1 into dataframe\n",
    "filename='/Users/kciurleo/Documents/kciurleo/AGN/unorganized/CSC2.1p_OIR_SDSSspecmatch.csv'\n",
    "data=pd.read_csv(filename)\n",
    "columns = data.columns"
   ]
  },
  {
   "cell_type": "code",
   "execution_count": 139,
   "metadata": {},
   "outputs": [],
   "source": [
    "#Find only sources with SDSS data\n",
    "sources = data.dropna(subset=['Sep_SPEC_CSC21P'])\n",
    "\n",
    "#Find only non-extended CSC sources\n",
    "point_sources = sources.loc[sources['extent_flag']==False]"
   ]
  },
  {
   "cell_type": "code",
   "execution_count": 140,
   "metadata": {},
   "outputs": [],
   "source": [
    "#Saved point sources as csv, which was used in SciServer CasJobs SQL query to get Portsmouth classifications\n",
    "point_sources.to_csv('/Users/kciurleo/Documents/kciurleo/AGN/unorganized/point_sources.csv', index=False) "
   ]
  },
  {
   "cell_type": "code",
   "execution_count": 141,
   "metadata": {},
   "outputs": [],
   "source": [
    "#Portsmouth classifications https://salims.pages.iu.edu/agn/\n",
    "portsmouth=pd.read_csv('/Users/kciurleo/Documents/kciurleo/AGN/unorganized/point_source_classifications.csv')\n",
    "\n",
    "#Agostino classifications https://salims.pages.iu.edu/agn/\n",
    "agostino=pd.read_csv('/Users/kciurleo/Documents/kciurleo/AGN/unorganized/agostino2021_table1.csv')"
   ]
  },
  {
   "cell_type": "code",
   "execution_count": 142,
   "metadata": {},
   "outputs": [],
   "source": [
    "#Get the agostino spectral ids and merge into normal agostino table\n",
    "agostino_IDs=pd.read_csv('/Users/kciurleo/Documents/kciurleo/AGN/unorganized/agostino_specIDs.csv')\n",
    "agostino_full =pd.merge(agostino_IDs, agostino, left_on=['objID'], right_on=['SDSS_ObjID'], how='inner')\n",
    "\n",
    "#Combine our point source table, portsmouth classification, and agostine classifications\n",
    "combined = pd.merge(point_sources, portsmouth, left_on=['PLATE', 'MJD', 'FIBERID'],right_on=['plate', 'mjd', 'fiberID'], how='left')\n",
    "classified_point_sources = pd.merge(combined, agostino_full, left_on =['specobjID'],right_on=['specobjID'],how='left')"
   ]
  },
  {
   "cell_type": "code",
   "execution_count": 143,
   "metadata": {},
   "outputs": [],
   "source": [
    "#Find only Seyfert Galaxies, classified as bpt=\"Seyfert\" for Portsmouth and sl_class1=1 for Agostino\n",
    "portsmouth_s2=classified_point_sources.loc[classified_point_sources['bpt']==\"Seyfert\"]\n",
    "agostino_s2=classified_point_sources.loc[classified_point_sources['sl_class1']==1]\n",
    "\n",
    "#Those classified by both\n",
    "inner_s2=pd.merge(agostino_s2, portsmouth_s2, how='inner')\n",
    "\n",
    "#Those classified by either\n",
    "outer_s2=pd.merge(agostino_s2, portsmouth_s2, how='outer')\n"
   ]
  },
  {
   "cell_type": "code",
   "execution_count": 144,
   "metadata": {},
   "outputs": [
    {
     "name": "stdout",
     "output_type": "stream",
     "text": [
      "Total observations in crossmatch: 387441\n",
      "All source count: 17666, 369775 not observed with SDSS\n",
      "Point source count: 16022, 1644 extended sources\n",
      "Portsmouth Seyferts:660, 15362 non-Seyferts\n",
      "Agostino Seyferts: 130, 15892 non-Seyferts\n",
      "Portsmouth-Agostino Seyferts: 73\n",
      "Portsmouth or Agostino Seyferts: 717\n"
     ]
    }
   ],
   "source": [
    "print(f'Total observations in crossmatch: {len(data)}')\n",
    "print(f'All source count: {len(sources)}, {len(data)-len(sources)} not observed with SDSS')\n",
    "print(f'Point source count: {len(point_sources)}, {len(sources)-len(point_sources)} extended sources')\n",
    "print(f'Portsmouth Seyferts:{len(portsmouth_s2)}, {len(point_sources)-len(portsmouth_s2)} non-Seyferts')\n",
    "print(f'Agostino Seyferts: {len(agostino_s2)}, {len(point_sources)-len(agostino_s2)} non-Seyferts')\n",
    "print(f'Portsmouth-Agostino Seyferts: {len(inner_s2)}')\n",
    "print(f'Portsmouth or Agostino Seyferts: {len(outer_s2)}')"
   ]
  },
  {
   "cell_type": "code",
   "execution_count": 152,
   "metadata": {},
   "outputs": [
    {
     "data": {
      "text/plain": [
       "array(['Composite', 'LINER', 'Star Forming'], dtype=object)"
      ]
     },
     "execution_count": 152,
     "metadata": {},
     "output_type": "execute_result"
    }
   ],
   "source": [
    "#What do the extra agostino seyferts look like in the portsmouth categorization?\n",
    "unique_to_agostino = pd.merge(agostino_s2, inner_s2, how='left', indicator=True)\n",
    "unique_to_agostino = unique_to_agostino[unique_to_agostino['_merge'] == 'left_only'].drop(columns=['_merge'])\n",
    "unique_to_agostino['bpt'].unique()"
   ]
  },
  {
   "cell_type": "code",
   "execution_count": null,
   "metadata": {},
   "outputs": [],
   "source": []
  }
 ],
 "metadata": {
  "kernelspec": {
   "display_name": "ciao-4.16",
   "language": "python",
   "name": "python3"
  },
  "language_info": {
   "codemirror_mode": {
    "name": "ipython",
    "version": 3
   },
   "file_extension": ".py",
   "mimetype": "text/x-python",
   "name": "python",
   "nbconvert_exporter": "python",
   "pygments_lexer": "ipython3",
   "version": "3.11.9"
  }
 },
 "nbformat": 4,
 "nbformat_minor": 2
}
