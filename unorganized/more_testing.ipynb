{
 "cells": [
  {
   "cell_type": "code",
   "execution_count": 32,
   "metadata": {},
   "outputs": [],
   "source": [
    "import numpy as np\n",
    "from astropy.io import fits\n",
    "import pandas as pd"
   ]
  },
  {
   "cell_type": "code",
   "execution_count": 66,
   "metadata": {},
   "outputs": [
    {
     "name": "stderr",
     "output_type": "stream",
     "text": [
      "/var/folders/6x/hz5y30457mqg1y9dl2fg7r5m00034d/T/ipykernel_34251/3238967991.py:3: DtypeWarning: Columns (57,61,62) have mixed types. Specify dtype option on import or set low_memory=False.\n",
      "  data=pd.read_csv(filename)\n"
     ]
    }
   ],
   "source": [
    "#Read CSC 2.1 into dataframe\n",
    "filename='/Users/kciurleo/Documents/kciurleo/AGN/unorganized/CSC2.1p_OIR_SDSSspecmatch.csv'\n",
    "data=pd.read_csv(filename)\n",
    "columns = data.columns"
   ]
  },
  {
   "cell_type": "code",
   "execution_count": 67,
   "metadata": {},
   "outputs": [
    {
     "name": "stdout",
     "output_type": "stream",
     "text": [
      "All source count:17666, 369775 not observed with SDSS\n",
      "Point source count:16022, removed 1644\n"
     ]
    }
   ],
   "source": [
    "#Find only sources with SDSS data\n",
    "sources = data.dropna(subset=['Sep_SPEC_CSC21P'])\n",
    "print(f'All source count: {len(sources)}, {len(data)-len(sources)} not observed with SDSS')\n",
    "\n",
    "#Find only non-extended CSC sources\n",
    "point_sources = sources.loc[sources['extent_flag']==False]\n",
    "print(f'Point source count: {len(point_sources)}, removed {len(sources)-len(point_sources)}')"
   ]
  },
  {
   "cell_type": "code",
   "execution_count": 68,
   "metadata": {},
   "outputs": [],
   "source": [
    "#Saved point sources as csv, which was used in SciServer CasJobs SQL query to get Portsmouth classifications\n",
    "point_sources.to_csv('/Users/kciurleo/Documents/kciurleo/AGN/unorganized/point_sources.csv', index=False) "
   ]
  },
  {
   "cell_type": "code",
   "execution_count": 99,
   "metadata": {},
   "outputs": [],
   "source": [
    "#Portsmouth classifications https://salims.pages.iu.edu/agn/\n",
    "portsmouth=pd.read_csv('/Users/kciurleo/Documents/kciurleo/AGN/unorganized/point_source_classifications.csv')\n",
    "\n",
    "#Agostino classifications https://salims.pages.iu.edu/agn/\n",
    "agostino=pd.read_csv('/Users/kciurleo/Documents/kciurleo/AGN/unorganized/agostino2021_table1.csv')"
   ]
  },
  {
   "cell_type": "code",
   "execution_count": 119,
   "metadata": {},
   "outputs": [],
   "source": [
    "#Get the agostino spectral ids and merge into normal agostino table\n",
    "agostino_IDs=pd.read_csv('/Users/kciurleo/Documents/kciurleo/AGN/unorganized/agostino_specIDs.csv')\n",
    "agostino_full =pd.merge(agostino_IDs, agostino, left_on=['objID'], right_on=['SDSS_ObjID'], how='inner')\n",
    "\n",
    "#Combine our point source table, portsmouth classification, and agostine classifications\n",
    "combined = pd.merge(point_sources, portsmouth, left_on=['PLATE', 'MJD', 'FIBERID'],right_on=['plate', 'mjd', 'fiberID'], how='left')\n",
    "classified_point_sources = pd.merge(combined, agostino_full, left_on =['specobjID'],right_on=['specobjID'],how='left')"
   ]
  },
  {
   "cell_type": "code",
   "execution_count": 132,
   "metadata": {},
   "outputs": [
    {
     "name": "stdout",
     "output_type": "stream",
     "text": [
      "Portsmouth Seyferts:660, 15362 non-Seyferts\n",
      "Agostino Seyferts:130, 15892 non-Seyferts\n",
      "Portsmouth-Agostino Seyferts:73\n",
      "Portsmouth or Agostino Seyferts:717\n"
     ]
    }
   ],
   "source": [
    "#Find only Seyfert Galaxies, classified as bpt=\"Seyfert\" for Portsmouth \n",
    "portsmouth_s2=classified_point_sources.loc[classified_point_sources['bpt']==\"Seyfert\"]\n",
    "print(f'Portsmouth Seyferts:{len(portsmouth_s2)}, {len(point_sources)-len(portsmouth_s2)} non-Seyferts')\n",
    "\n",
    "#and sl_class1=1 for Agostino\n",
    "agostino_s2=classified_point_sources.loc[classified_point_sources['sl_class1']==1]\n",
    "print(f'Agostino Seyferts: {len(agostino_s2)}, {len(point_sources)-len(agostino_s2)} non-Seyferts')\n",
    "\n",
    "#Those classified by both\n",
    "inner_s2=pd.merge(agostino_s2, portsmouth_s2, how='inner')\n",
    "print(f'Portsmouth-Agostino Seyferts: {len(inner_s2)}')\n",
    "\n",
    "#Those classified by either\n",
    "outer_s2=pd.merge(agostino_s2, portsmouth_s2, how='outer')\n",
    "print(f'Portsmouth or Agostino Seyferts: {len(outer_s2)}')"
   ]
  }
 ],
 "metadata": {
  "kernelspec": {
   "display_name": "ciao-4.16",
   "language": "python",
   "name": "python3"
  },
  "language_info": {
   "codemirror_mode": {
    "name": "ipython",
    "version": 3
   },
   "file_extension": ".py",
   "mimetype": "text/x-python",
   "name": "python",
   "nbconvert_exporter": "python",
   "pygments_lexer": "ipython3",
   "version": "3.11.9"
  }
 },
 "nbformat": 4,
 "nbformat_minor": 2
}
