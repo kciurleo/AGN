{
 "cells": [
  {
   "cell_type": "code",
   "execution_count": 1,
   "metadata": {},
   "outputs": [],
   "source": [
    "import pandas as pd\n",
    "import matplotlib.pyplot as plt\n",
    "import numpy as np\n",
    "#from useful_functions import *\n",
    "import csv\n",
    "from astropy.io import votable\n",
    "from astropy.table import Table"
   ]
  },
  {
   "cell_type": "code",
   "execution_count": 9,
   "metadata": {},
   "outputs": [
    {
     "name": "stderr",
     "output_type": "stream",
     "text": [
      "/var/folders/6x/hz5y30457mqg1y9dl2fg7r5m00034d/T/ipykernel_4631/4132563147.py:2: ParserWarning: Falling back to the 'python' engine because the 'c' engine does not support regex separators (separators > 1 char and different from '\\s+' are interpreted as regex); you can avoid this warning by specifying engine='python'.\n",
      "  reran_min_abs=pd.read_csv('/Volumes/galaxies/rerunning_seth/data_min_abs/min_abs_info.txt' , delimiter='  ', header=1, names=['Name','Obsid','ra','dec','z','nH', 'Counts'])\n"
     ]
    }
   ],
   "source": [
    "#Our reran version\n",
    "reran_min_abs=pd.read_csv('/Volumes/galaxies/rerunning_seth/data_min_abs/min_abs_info.txt' , delimiter='  ', header=1, names=['Name','Obsid','ra','dec','z','nH', 'Counts'])\n",
    "reran_min_abs['IAU_stripped']=reran_min_abs['Name'].str[5:]"
   ]
  },
  {
   "cell_type": "code",
   "execution_count": 10,
   "metadata": {},
   "outputs": [],
   "source": [
    "seth_table_51=['J142859.9+330318','J102025.7+25340','J081013.0+345137','J142044.9+533913','J173801.1+58301','J233731.7+002600','J123038.9+401614','J081937.7+21065','J113645.8+070647','J235720.1-005829','J104429.3+113810','J115930.3+532055','J143232.4+340624','J080534.7+240951','J125830.1-015836','J135317.9+332929','J153854.0+170137','J014209.0-005050','J134736.4+173404','J081145.3+232825','J142841.1+323','J081910.7+212609','J161046.8+522805','J115852.2+424320','J140052.5-014511','J150117.0+014958','J020001.7-085540','J151215.7+020317','J140354.3+542209','J143525.3+330520']"
   ]
  },
  {
   "cell_type": "code",
   "execution_count": 11,
   "metadata": {},
   "outputs": [],
   "source": [
    "seth_table_52=['J235720.1-005829','J235720.1-005829','J104429.3+113810','J115930.3+532055','J143232.4+340624','J143232.4+340624','J080534.7+240951','J080534.7+240951','J080534.7+240951','J080534.7+240951','J080534.7+240951','J125830.1-015836','J135317.9+332929','J135317.9+332929','J153854.0+170137','J153854.0+170137','J153854.0+170137','J014209.0-005050','J134736.4+173404','J134736.4+173404','J134736.4+173404','J081145.3+232825','J115852.2+424320','J115852.2+424320','J115852.2+424320','J115852.2+424320','J115852.2+424320','J115852.2+424320']"
   ]
  },
  {
   "cell_type": "code",
   "execution_count": 12,
   "metadata": {},
   "outputs": [
    {
     "data": {
      "text/html": [
       "<div>\n",
       "<style scoped>\n",
       "    .dataframe tbody tr th:only-of-type {\n",
       "        vertical-align: middle;\n",
       "    }\n",
       "\n",
       "    .dataframe tbody tr th {\n",
       "        vertical-align: top;\n",
       "    }\n",
       "\n",
       "    .dataframe thead th {\n",
       "        text-align: right;\n",
       "    }\n",
       "</style>\n",
       "<table border=\"1\" class=\"dataframe\">\n",
       "  <thead>\n",
       "    <tr style=\"text-align: right;\">\n",
       "      <th></th>\n",
       "      <th>Name</th>\n",
       "      <th>Obsid</th>\n",
       "      <th>ra</th>\n",
       "      <th>dec</th>\n",
       "      <th>z</th>\n",
       "      <th>nH</th>\n",
       "      <th>Counts</th>\n",
       "      <th>IAU_stripped</th>\n",
       "    </tr>\n",
       "  </thead>\n",
       "  <tbody>\n",
       "    <tr>\n",
       "      <th>19</th>\n",
       "      <td>2CXO J104429.3+113810</td>\n",
       "      <td>5929</td>\n",
       "      <td>161.12194</td>\n",
       "      <td>11.636486</td>\n",
       "      <td>0.229776</td>\n",
       "      <td>0.0228</td>\n",
       "      <td>86</td>\n",
       "      <td>J104429.3+113810</td>\n",
       "    </tr>\n",
       "  </tbody>\n",
       "</table>\n",
       "</div>"
      ],
      "text/plain": [
       "                     Name Obsid         ra        dec         z      nH  \\\n",
       "19  2CXO J104429.3+113810  5929  161.12194  11.636486  0.229776  0.0228   \n",
       "\n",
       "    Counts      IAU_stripped  \n",
       "19      86  J104429.3+113810  "
      ]
     },
     "execution_count": 12,
     "metadata": {},
     "output_type": "execute_result"
    }
   ],
   "source": [
    "reran_min_abs[reran_min_abs['IAU_stripped'].isin(seth_table_52)]"
   ]
  },
  {
   "cell_type": "code",
   "execution_count": 13,
   "metadata": {},
   "outputs": [
    {
     "data": {
      "text/html": [
       "<div>\n",
       "<style scoped>\n",
       "    .dataframe tbody tr th:only-of-type {\n",
       "        vertical-align: middle;\n",
       "    }\n",
       "\n",
       "    .dataframe tbody tr th {\n",
       "        vertical-align: top;\n",
       "    }\n",
       "\n",
       "    .dataframe thead th {\n",
       "        text-align: right;\n",
       "    }\n",
       "</style>\n",
       "<table border=\"1\" class=\"dataframe\">\n",
       "  <thead>\n",
       "    <tr style=\"text-align: right;\">\n",
       "      <th></th>\n",
       "      <th>Name</th>\n",
       "      <th>Obsid</th>\n",
       "      <th>ra</th>\n",
       "      <th>dec</th>\n",
       "      <th>z</th>\n",
       "      <th>nH</th>\n",
       "      <th>Counts</th>\n",
       "      <th>IAU_stripped</th>\n",
       "    </tr>\n",
       "  </thead>\n",
       "  <tbody>\n",
       "    <tr>\n",
       "      <th>15</th>\n",
       "      <td>2CXO J081013.0+345137</td>\n",
       "      <td>21707</td>\n",
       "      <td>122.55423</td>\n",
       "      <td>34.860239</td>\n",
       "      <td>0.083139</td>\n",
       "      <td>0.0418</td>\n",
       "      <td>124</td>\n",
       "      <td>J081013.0+345137</td>\n",
       "    </tr>\n",
       "    <tr>\n",
       "      <th>19</th>\n",
       "      <td>2CXO J104429.3+113810</td>\n",
       "      <td>5929</td>\n",
       "      <td>161.12194</td>\n",
       "      <td>11.636486</td>\n",
       "      <td>0.229776</td>\n",
       "      <td>0.0228</td>\n",
       "      <td>86</td>\n",
       "      <td>J104429.3+113810</td>\n",
       "    </tr>\n",
       "    <tr>\n",
       "      <th>24</th>\n",
       "      <td>2CXO J150117.0+014958</td>\n",
       "      <td>13246</td>\n",
       "      <td>225.32127</td>\n",
       "      <td>1.832829</td>\n",
       "      <td>0.129253</td>\n",
       "      <td>0.0417</td>\n",
       "      <td>240</td>\n",
       "      <td>J150117.0+014958</td>\n",
       "    </tr>\n",
       "  </tbody>\n",
       "</table>\n",
       "</div>"
      ],
      "text/plain": [
       "                     Name  Obsid         ra        dec         z      nH  \\\n",
       "15  2CXO J081013.0+345137  21707  122.55423  34.860239  0.083139  0.0418   \n",
       "19  2CXO J104429.3+113810   5929  161.12194  11.636486  0.229776  0.0228   \n",
       "24  2CXO J150117.0+014958  13246  225.32127   1.832829  0.129253  0.0417   \n",
       "\n",
       "    Counts      IAU_stripped  \n",
       "15     124  J081013.0+345137  \n",
       "19      86  J104429.3+113810  \n",
       "24     240  J150117.0+014958  "
      ]
     },
     "execution_count": 13,
     "metadata": {},
     "output_type": "execute_result"
    }
   ],
   "source": [
    "reran_min_abs[reran_min_abs['IAU_stripped'].isin(seth_table_51)]"
   ]
  },
  {
   "cell_type": "code",
   "execution_count": 22,
   "metadata": {},
   "outputs": [],
   "source": [
    "#Print the stats from the tcl code for an object\n",
    "def print_info(obsid, name=''):\n",
    "    #Our rerun\n",
    "    print(f'RERAN VERSION {name}:')\n",
    "    print()\n",
    "    with open(f\"/Volumes/galaxies/rerunning_seth/data_min_abs/{obsid}/abs_summary.txt\") as f: \n",
    "        print(f.read())\n",
    "    print()\n",
    "    print()\n",
    "    print(\"ARCHIVAL VERSION:\")\n",
    "    print()\n",
    "    #I think archival version of Seth's data\n",
    "    with open(f\"/Volumes/galaxies/Seth/AGNs/x-ray/archive/all_sources/{obsid}/primary/tclout.txt\") as f: \n",
    "        print(f.read())\n",
    "    print()\n",
    "    print()\n",
    "    print(\"SETH'S VERSION:\")\n",
    "    print()\n",
    "    #Latest(?) version of Seth's data\n",
    "    with open(f\"/Volumes/galaxies/Seth/AGNs/x-ray/csc_v2/{obsid}/primary/tclout.txt\") as f: \n",
    "        print(f.read())\n"
   ]
  },
  {
   "cell_type": "code",
   "execution_count": 26,
   "metadata": {},
   "outputs": [
    {
     "name": "stdout",
     "output_type": "stream",
     "text": [
      "RERAN VERSION J081013.0+345137:\n",
      "\n",
      "#CSTAT:\n",
      "630.3756222\n",
      "nH:\n",
      "0.0001299313176 0.001 0 0 100000 1000000\n",
      "ERROR:\n",
      "0 0.3315783794  FFFTFFTFF\n",
      "Gamma:\n",
      "3.366373863 0.01 -3 -2 9 10\n",
      "ERROR:\n",
      "2.882158233 4.638623762  FFFFFFFFF\n",
      "0.3-7.5 Flux:\n",
      "2.368362553e-14 8.139832105e-15 2.178184786e-14  2.681091356e-05 5.424461715e-06 2.435680231e-05 9.168769119e-14 9.168769119e-14 9.168769119e-14  1.01679307e-05 1.01679307e-05 1.01679307e-05 \n",
      "2-10 Flux:\n",
      "1.924435023e-15 7.594622966e-16 3.120628524e-15  3.811294767e-07 1.676067706e-07 5.795095531e-07 2.89816758e-13 2.89816758e-13 2.89816758e-13  2.395335011e-05 2.395335011e-05 2.395335011e-05 \n",
      "\n",
      "\n",
      "\n",
      "ARCHIVAL VERSION:\n",
      "\n",
      "#CSTAT:\n",
      "443.1875273\n",
      "nH:\n",
      "6.24463e-08 0.001 0 0 100000 1e+06\n",
      "ERROR:\n",
      "NONE\n",
      "Gamma:\n",
      "2.84263 0.01 -3 -2 9 10\n",
      "ERROR:\n",
      "NONE\n",
      "0.3-7.5 Flux:\n",
      "2.050109943e-14 0 0  1.915643771e-05 0 0 4.055685212e-14 0 0  4.33938156e-06 0 0 \n",
      "2-10 Flux:\n",
      "3.791048039e-15 0 0  6.907564408e-07 0 0 1.479033595e-13 0 0  1.183484055e-05 0 0 \n",
      "\n",
      "\n",
      "\n",
      "SETH'S VERSION:\n",
      "\n",
      "#CSTAT:\n",
      "443.1875273\n",
      "nH:\n",
      "6.27275e-08 0.001 0 0 100000 1e+06\n",
      "ERROR:\n",
      "NONE\n",
      "Gamma:\n",
      "2.84263 0.01 -3 -2 9 10\n",
      "ERROR:\n",
      "NONE\n",
      "0.3-7.5 Flux:\n",
      "2.050109944e-14 0 0  1.915643773e-05 0 0 4.055685212e-14 0 0  4.33938156e-06 0 0 \n",
      "2-10 Flux:\n",
      "3.791048036e-15 0 0  6.907564403e-07 0 0 1.479033595e-13 0 0  1.183484055e-05 0 0 \n",
      "\n"
     ]
    }
   ],
   "source": [
    "#Reran version of J104429.3+113810, only source listed in 5.2 as \"primary\" that we retrieved\n",
    "print_info(5929, 'J081013.0+345137')"
   ]
  },
  {
   "cell_type": "code",
   "execution_count": 25,
   "metadata": {},
   "outputs": [
    {
     "name": "stdout",
     "output_type": "stream",
     "text": [
      "RERAN VERSION J150117.0+014958:\n",
      "\n",
      "#CSTAT:\n",
      "899.2937391\n",
      "nH:\n",
      "2.349959955e-09 0.001 0 0 100000 1000000\n",
      "ERROR:\n",
      "0.8224962029 0  FFFFFFTTF\n",
      "Gamma:\n",
      "2.926265149 0.01 -3 -2 9 10\n",
      "ERROR:\n",
      "2.590248112 3.278467439  FFFFFFFFF\n",
      "0.3-7.5 Flux:\n",
      "NONE\n",
      "2-10 Flux:\n",
      "NONE\n",
      "\n",
      "\n",
      "\n",
      "ARCHIVAL VERSION:\n",
      "\n",
      "#CSTAT:\n",
      "723.4641185\n",
      "nH:\n",
      "1.68883e-09 0.001 0 0 100000 1e+06\n",
      "ERROR:\n",
      "0.8224962023 0  FFFFFFTTF\n",
      "Gamma:\n",
      "2.49604 0.01 -3 -2 9 10\n",
      "ERROR:\n",
      "2.184117244 2.825693829  FFFFFFFFF\n",
      "0.3-7.5 Flux:\n",
      "NONE\n",
      "2-10 Flux:\n",
      "NONE\n",
      "\n",
      "\n",
      "\n",
      "SETH'S VERSION:\n",
      "\n",
      "#CSTAT:\n",
      "723.4641185\n",
      "nH:\n",
      "1.68883e-09 0.001 0 0 100000 1e+06\n",
      "ERROR:\n",
      "0.8224962023 0  FFFFFFTTF\n",
      "Gamma:\n",
      "2.49604 0.01 -3 -2 9 10\n",
      "ERROR:\n",
      "2.184117244 2.825693829  FFFFFFFFF\n",
      "0.3-7.5 Flux:\n",
      "NONE\n",
      "2-10 Flux:\n",
      "NONE\n",
      "\n"
     ]
    }
   ],
   "source": [
    "print_info(13246, 'J150117.0+014958')"
   ]
  },
  {
   "cell_type": "code",
   "execution_count": 24,
   "metadata": {},
   "outputs": [
    {
     "name": "stdout",
     "output_type": "stream",
     "text": [
      "RERAN VERSION J081013.0+345137:\n",
      "\n",
      "#CSTAT:\n",
      "816.1906362\n",
      "nH:\n",
      "1.904589158e-08 0.001 0 0 100000 1000000\n",
      "ERROR:\n",
      "0.8224962196 0  FFFFFFTTF\n",
      "Gamma:\n",
      "7.337288034 0.01 -3 -2 9 10\n",
      "ERROR:\n",
      "5.982333048 8.573713569  FFFFFFFFF\n",
      "0.3-7.5 Flux:\n",
      "NONE\n",
      "2-10 Flux:\n",
      "NONE\n",
      "\n",
      "\n",
      "\n",
      "ARCHIVAL VERSION:\n",
      "\n",
      "#CSTAT:\n",
      "607.2226648\n",
      "nH:\n",
      "1.89775e-10 0.001 0 0 100000 1e+06\n",
      "ERROR:\n",
      "0.8224962008 0  FFFFFFTTF\n",
      "Gamma:\n",
      "1.68229 0.01 -3 -2 9 10\n",
      "ERROR:\n",
      "1.146584451 2.33315194  FFFFFFFFF\n",
      "0.3-7.5 Flux:\n",
      "NONE\n",
      "2-10 Flux:\n",
      "NONE\n",
      "\n",
      "\n",
      "\n",
      "SETH'S VERSION:\n",
      "\n",
      "#CSTAT:\n",
      "607.2226648\n",
      "nH:\n",
      "1.89775e-10 0.001 0 0 100000 1e+06\n",
      "ERROR:\n",
      "0.8224962008 0  FFFFFFTTF\n",
      "Gamma:\n",
      "1.68229 0.01 -3 -2 9 10\n",
      "ERROR:\n",
      "1.146584451 2.33315194  FFFFFFFFF\n",
      "0.3-7.5 Flux:\n",
      "NONE\n",
      "2-10 Flux:\n",
      "NONE\n",
      "\n"
     ]
    }
   ],
   "source": [
    "print_info(21707, 'J081013.0+345137')"
   ]
  },
  {
   "cell_type": "code",
   "execution_count": null,
   "metadata": {},
   "outputs": [],
   "source": []
  }
 ],
 "metadata": {
  "kernelspec": {
   "display_name": "ciao-4.16",
   "language": "python",
   "name": "python3"
  },
  "language_info": {
   "codemirror_mode": {
    "name": "ipython",
    "version": 3
   },
   "file_extension": ".py",
   "mimetype": "text/x-python",
   "name": "python",
   "nbconvert_exporter": "python",
   "pygments_lexer": "ipython3",
   "version": "3.11.9"
  }
 },
 "nbformat": 4,
 "nbformat_minor": 2
}
