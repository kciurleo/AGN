{
 "cells": [
  {
   "cell_type": "code",
   "execution_count": 1,
   "metadata": {},
   "outputs": [
    {
     "name": "stdout",
     "output_type": "stream",
     "text": [
      " Solar Abundance Vector set to angr:  Anders E. & Grevesse N. Geochimica et Cosmochimica Acta 53, 197 (1989)\n",
      " Cross Section Table set to vern:  Verner, Ferland, Korista, and Yakovlev 1996\n"
     ]
    }
   ],
   "source": [
    "from sherpa.astro.ui import *\n",
    "import os\n",
    "import numpy as np\n",
    "import matplotlib.pyplot as plt\n",
    "from astropy.io import fits\n",
    "import pandas as pd\n",
    "import glob\n",
    "from astroquery.esa.xmm_newton import XMMNewton"
   ]
  },
  {
   "cell_type": "code",
   "execution_count": 2,
   "metadata": {},
   "outputs": [],
   "source": [
    "observed=pd.read_csv('/Users/kciurleo/Documents/kciurleo/AGN/csvs/observed_full_info.csv')"
   ]
  },
  {
   "cell_type": "code",
   "execution_count": 19,
   "metadata": {},
   "outputs": [
    {
     "name": "stdout",
     "output_type": "stream",
     "text": [
      "read ARF file /opt/pwdata/katie/csc2.1/9557/primary/reextract_pha.corr.arf\n",
      "read RMF file /opt/pwdata/katie/csc2.1/9557/primary/reextract_pha.rmf\n",
      "read ARF (background) file /opt/pwdata/katie/csc2.1/9557/primary/reextract_pha_bkg.arf\n",
      "read RMF (background) file /opt/pwdata/katie/csc2.1/9557/primary/reextract_pha_bkg.rmf\n",
      "read background file /opt/pwdata/katie/csc2.1/9557/primary/reextract_pha_bkg.pi\n",
      "dataset 1: 0.0073:14.9504 Energy (keV) -> no data\n",
      "dataset 1: no data -> 0.3358:10.001 Energy (keV)\n"
     ]
    },
    {
     "name": "stderr",
     "output_type": "stream",
     "text": [
      "/opt/anaconda3/envs/ciao-4.16/lib/python3.11/site-packages/sherpa/models/parameter.py:358: FutureWarning: Calling float on a single element Series is deprecated and will raise a TypeError in the future. Use float(ser.iloc[0]) instead\n",
      "  val = SherpaFloat(val)\n"
     ]
    },
    {
     "ename": "FitErr",
     "evalue": "zeros found in uncertainties, consider using calculated uncertainties",
     "output_type": "error",
     "traceback": [
      "\u001b[0;31m---------------------------------------------------------------------------\u001b[0m",
      "\u001b[0;31mFitErr\u001b[0m                                    Traceback (most recent call last)",
      "Cell \u001b[0;32mIn[19], line 30\u001b[0m\n\u001b[1;32m     28\u001b[0m p1\u001b[38;5;241m.\u001b[39mredshift \u001b[38;5;241m=\u001b[39m z\n\u001b[1;32m     29\u001b[0m abs2\u001b[38;5;241m.\u001b[39mredshift \u001b[38;5;241m=\u001b[39m z\n\u001b[0;32m---> 30\u001b[0m \u001b[43mfit\u001b[49m\u001b[43m(\u001b[49m\u001b[43m)\u001b[49m\n\u001b[1;32m     32\u001b[0m \u001b[38;5;66;03m#Plotting\u001b[39;00m\n\u001b[1;32m     33\u001b[0m plt\u001b[38;5;241m.\u001b[39mfigure()\n",
      "File \u001b[0;32m<string>:1\u001b[0m, in \u001b[0;36mfit\u001b[0;34m(id, *otherids, **kwargs)\u001b[0m\n",
      "File \u001b[0;32m/opt/anaconda3/envs/ciao-4.16/lib/python3.11/site-packages/sherpa/astro/ui/utils.py:10982\u001b[0m, in \u001b[0;36mSession.fit\u001b[0;34m(self, id, *otherids, **kwargs)\u001b[0m\n\u001b[1;32m  10898\u001b[0m \u001b[38;5;250m\u001b[39m\u001b[38;5;124;03m\"\"\"Fit a model to one or more data sets.\u001b[39;00m\n\u001b[1;32m  10899\u001b[0m \n\u001b[1;32m  10900\u001b[0m \u001b[38;5;124;03mUse forward fitting to find the best-fit model to one or more\u001b[39;00m\n\u001b[0;32m   (...)\u001b[0m\n\u001b[1;32m  10979\u001b[0m \n\u001b[1;32m  10980\u001b[0m \u001b[38;5;124;03m\"\"\"\u001b[39;00m\n\u001b[1;32m  10981\u001b[0m kwargs[\u001b[38;5;124m'\u001b[39m\u001b[38;5;124mbkg_only\u001b[39m\u001b[38;5;124m'\u001b[39m] \u001b[38;5;241m=\u001b[39m \u001b[38;5;28;01mFalse\u001b[39;00m\n\u001b[0;32m> 10982\u001b[0m \u001b[38;5;28;43mself\u001b[39;49m\u001b[38;5;241;43m.\u001b[39;49m\u001b[43m_fit\u001b[49m\u001b[43m(\u001b[49m\u001b[38;5;28;43mid\u001b[39;49m\u001b[43m,\u001b[49m\u001b[43m \u001b[49m\u001b[38;5;241;43m*\u001b[39;49m\u001b[43motherids\u001b[49m\u001b[43m,\u001b[49m\u001b[43m \u001b[49m\u001b[38;5;241;43m*\u001b[39;49m\u001b[38;5;241;43m*\u001b[39;49m\u001b[43mkwargs\u001b[49m\u001b[43m)\u001b[49m\n",
      "File \u001b[0;32m/opt/anaconda3/envs/ciao-4.16/lib/python3.11/site-packages/sherpa/astro/ui/utils.py:11070\u001b[0m, in \u001b[0;36mSession._fit\u001b[0;34m(self, id, *otherids, **kwargs)\u001b[0m\n\u001b[1;32m  11067\u001b[0m         data \u001b[38;5;241m=\u001b[39m \u001b[38;5;28mself\u001b[39m\u001b[38;5;241m.\u001b[39mget_data(idval)\n\u001b[1;32m  11068\u001b[0m         data\u001b[38;5;241m.\u001b[39mmask \u001b[38;5;241m&\u001b[39m\u001b[38;5;241m=\u001b[39m numpy\u001b[38;5;241m.\u001b[39misfinite(data\u001b[38;5;241m.\u001b[39mget_x())\n\u001b[0;32m> 11070\u001b[0m res \u001b[38;5;241m=\u001b[39m \u001b[43mf\u001b[49m\u001b[38;5;241;43m.\u001b[39;49m\u001b[43mfit\u001b[49m\u001b[43m(\u001b[49m\u001b[38;5;241;43m*\u001b[39;49m\u001b[38;5;241;43m*\u001b[39;49m\u001b[43mkwargs\u001b[49m\u001b[43m)\u001b[49m\n\u001b[1;32m  11071\u001b[0m res\u001b[38;5;241m.\u001b[39mdatasets \u001b[38;5;241m=\u001b[39m ids\n\u001b[1;32m  11072\u001b[0m \u001b[38;5;28mself\u001b[39m\u001b[38;5;241m.\u001b[39m_fit_results \u001b[38;5;241m=\u001b[39m res\n",
      "File \u001b[0;32m/opt/anaconda3/envs/ciao-4.16/lib/python3.11/site-packages/sherpa/fit.py:55\u001b[0m, in \u001b[0;36mevaluates_model.<locals>.run\u001b[0;34m(fit, *args, **kwargs)\u001b[0m\n\u001b[1;32m     53\u001b[0m cache \u001b[38;5;241m=\u001b[39m kwargs\u001b[38;5;241m.\u001b[39mpop(\u001b[38;5;124m'\u001b[39m\u001b[38;5;124mcache\u001b[39m\u001b[38;5;124m'\u001b[39m, \u001b[38;5;28;01mTrue\u001b[39;00m)\n\u001b[1;32m     54\u001b[0m fit\u001b[38;5;241m.\u001b[39mmodel\u001b[38;5;241m.\u001b[39mstartup(cache\u001b[38;5;241m=\u001b[39mcache)\n\u001b[0;32m---> 55\u001b[0m result \u001b[38;5;241m=\u001b[39m \u001b[43mfunc\u001b[49m\u001b[43m(\u001b[49m\u001b[43mfit\u001b[49m\u001b[43m,\u001b[49m\u001b[43m \u001b[49m\u001b[38;5;241;43m*\u001b[39;49m\u001b[43margs\u001b[49m\u001b[43m,\u001b[49m\u001b[43m \u001b[49m\u001b[38;5;241;43m*\u001b[39;49m\u001b[38;5;241;43m*\u001b[39;49m\u001b[43mkwargs\u001b[49m\u001b[43m)\u001b[49m\n\u001b[1;32m     56\u001b[0m fit\u001b[38;5;241m.\u001b[39mmodel\u001b[38;5;241m.\u001b[39mteardown()\n\u001b[1;32m     57\u001b[0m \u001b[38;5;28;01mreturn\u001b[39;00m result\n",
      "File \u001b[0;32m/opt/anaconda3/envs/ciao-4.16/lib/python3.11/site-packages/sherpa/fit.py:1143\u001b[0m, in \u001b[0;36mFit.fit\u001b[0;34m(self, outfile, clobber, numcores)\u001b[0m\n\u001b[1;32m   1137\u001b[0m     \u001b[38;5;28;01mraise\u001b[39;00m FitErr(\u001b[38;5;124m'\u001b[39m\u001b[38;5;124mnobins\u001b[39m\u001b[38;5;124m'\u001b[39m)\n\u001b[1;32m   1139\u001b[0m \u001b[38;5;28;01mif\u001b[39;00m ((iterable(staterror) \u001b[38;5;129;01mand\u001b[39;00m \u001b[38;5;241m0.0\u001b[39m \u001b[38;5;129;01min\u001b[39;00m staterror) \u001b[38;5;129;01mand\u001b[39;00m\n\u001b[1;32m   1140\u001b[0m         \u001b[38;5;28misinstance\u001b[39m(\u001b[38;5;28mself\u001b[39m\u001b[38;5;241m.\u001b[39mstat, Chi2) \u001b[38;5;129;01mand\u001b[39;00m\n\u001b[1;32m   1141\u001b[0m         \u001b[38;5;28mtype\u001b[39m(\u001b[38;5;28mself\u001b[39m\u001b[38;5;241m.\u001b[39mstat) \u001b[38;5;241m!=\u001b[39m Chi2 \u001b[38;5;129;01mand\u001b[39;00m\n\u001b[1;32m   1142\u001b[0m         \u001b[38;5;28mtype\u001b[39m(\u001b[38;5;28mself\u001b[39m\u001b[38;5;241m.\u001b[39mstat) \u001b[38;5;241m!=\u001b[39m Chi2ModVar):\n\u001b[0;32m-> 1143\u001b[0m     \u001b[38;5;28;01mraise\u001b[39;00m FitErr(\u001b[38;5;124m'\u001b[39m\u001b[38;5;124mbinhas0\u001b[39m\u001b[38;5;124m'\u001b[39m)\n\u001b[1;32m   1145\u001b[0m init_stat \u001b[38;5;241m=\u001b[39m \u001b[38;5;28mself\u001b[39m\u001b[38;5;241m.\u001b[39mcalc_stat()\n\u001b[1;32m   1146\u001b[0m \u001b[38;5;66;03m# output = self.method.fit ...\u001b[39;00m\n",
      "\u001b[0;31mFitErr\u001b[0m: zeros found in uncertainties, consider using calculated uncertainties"
     ]
    }
   ],
   "source": [
    "interest=observed.loc[observed['# ObsID']=='3038'].head(1) #the one guy i downloaded\n",
    "base='/Users/kciurleo/Downloads/0782940101PPS/pps/'\n",
    "file='P0782940101PNS003SRSPEC000D.FTZ'\n",
    "\n",
    "mdl = f'(xsphabs.abs1*xszphabs.abs2 * xszpowerlw.p1)'\n",
    "\n",
    "nH=interest['galactic nH']\n",
    "z=interest['Z']\n",
    "\n",
    "clean()\n",
    "\n",
    "#stats are chi squared with a 3 sigma error and units of eV\n",
    "set_stat('chi2datavar')\n",
    "set_conf_opt(\"sigma\", 3)\n",
    "\n",
    "#load in file, ignore outer limits, subtract the background, set model\n",
    "load_pha(f'{base}{file}')\n",
    "ignore()\n",
    "notice(0.35,10)\n",
    "subtract()\n",
    "set_model(1,mdl)\n",
    "\n",
    "#freeze galactic nH, set redshifts\n",
    "abs1.nH = nH\n",
    "freeze(abs1.nH)\n",
    "p1.redshift = z\n",
    "abs2.redshift = z\n",
    "fit()\n",
    "\n",
    "#Plotting\n",
    "plt.figure()\n",
    "plot_fit(xlog=True, ylog=True) \n",
    "plot_model_component(p1, overplot=True) \n",
    "plt.savefig(f'{base}/sherpa_fit_xmm.pdf')\n",
    "\n",
    "#residuals\n",
    "plt.figure()\n",
    "plot_resid(xlog=True, ylog=True)\n",
    "plt.savefig(f'{base}/sherpa_fit_resid_xmm.pdf')\n",
    "\n",
    "#Get errors\n",
    "conf()\n",
    "res = get_conf_results()\n",
    "\n",
    "#nH\n",
    "int_nH = res.parvals[res.parnames.index('abs2.nH')]\n",
    "int_nH_error_up = res.parmaxes[res.parnames.index('abs2.nH')]\n",
    "int_nH_error_down = res.parmins[res.parnames.index('abs2.nH')]\n",
    "\n",
    "#gamma\n",
    "gamma = res.parvals[res.parnames.index('p1.PhoIndex')]\n",
    "gamma_error_up = res.parmaxes[res.parnames.index('p1.PhoIndex')]\n",
    "gamma_error_down = res.parmins[res.parnames.index('p1.PhoIndex')]\n",
    "\n",
    "#get energy in keV\n",
    "set_analysis('energy')\n",
    "print('eflux')\n",
    "\n",
    "#based on an example, set the errors as the upper errors\n",
    "testy=sample_energy_flux(2, 10, scales=res.parmaxes)\n",
    "\n",
    "#include the model to get unabsorbed flux; if we want absorbed, let it be none\n",
    "funabs=calc_energy_flux(0.3, 7.5, model=p1)\n",
    "f210=calc_energy_flux(2, 10, model=p1)\n",
    "\n",
    "#erosita bands\n",
    "fsoft=calc_energy_flux(0.2, 0.6, model=p1)\n",
    "fmed=calc_energy_flux(0.6, 2.3, model=p1)\n",
    "fhard=calc_energy_flux(2.3, 5, model=p1)\n",
    "fsum=calc_energy_flux(0.2, 5, model=p1)\n"
   ]
  },
  {
   "cell_type": "code",
   "execution_count": 4,
   "metadata": {},
   "outputs": [
    {
     "name": "stdout",
     "output_type": "stream",
     "text": [
      "13\n"
     ]
    }
   ],
   "source": [
    "hdr =fits.getheader(f'{base}P0782940101PNS003SRSPEC000D.FTZ',ext=1)\n",
    "print(hdr['SRCNUM'])"
   ]
  },
  {
   "cell_type": "code",
   "execution_count": 474,
   "metadata": {},
   "outputs": [
    {
     "data": {
      "text/html": [
       "<div>\n",
       "<style scoped>\n",
       "    .dataframe tbody tr th:only-of-type {\n",
       "        vertical-align: middle;\n",
       "    }\n",
       "\n",
       "    .dataframe tbody tr th {\n",
       "        vertical-align: top;\n",
       "    }\n",
       "\n",
       "    .dataframe thead th {\n",
       "        text-align: right;\n",
       "    }\n",
       "</style>\n",
       "<table border=\"1\" class=\"dataframe\">\n",
       "  <thead>\n",
       "    <tr style=\"text-align: right;\">\n",
       "      <th></th>\n",
       "      <th>srcid</th>\n",
       "      <th>src_num</th>\n",
       "      <th>detid</th>\n",
       "      <th>observation_id</th>\n",
       "      <th>observation_oid</th>\n",
       "      <th>ra</th>\n",
       "      <th>dec</th>\n",
       "      <th>duration</th>\n",
       "      <th>IAUNAME</th>\n",
       "    </tr>\n",
       "  </thead>\n",
       "  <tbody>\n",
       "    <tr>\n",
       "      <th>97</th>\n",
       "      <td>2.078294e+14</td>\n",
       "      <td>13.0</td>\n",
       "      <td>1.078294e+14</td>\n",
       "      <td>782940101</td>\n",
       "      <td>67487.0</td>\n",
       "      <td>264.505411</td>\n",
       "      <td>58.503147</td>\n",
       "      <td>20040.0</td>\n",
       "      <td>4XMM J173801.2+583011</td>\n",
       "    </tr>\n",
       "  </tbody>\n",
       "</table>\n",
       "</div>"
      ],
      "text/plain": [
       "           srcid  src_num         detid  observation_id  observation_oid  \\\n",
       "97  2.078294e+14     13.0  1.078294e+14       782940101          67487.0   \n",
       "\n",
       "            ra        dec  duration                IAUNAME  \n",
       "97  264.505411  58.503147   20040.0  4XMM J173801.2+583011  "
      ]
     },
     "execution_count": 474,
     "metadata": {},
     "output_type": "execute_result"
    }
   ],
   "source": [
    "\n",
    "interest=observed.loc[observed['# ObsID']=='3038'].head(1)\n",
    "df.loc[df['# ObsID']=='3038'][['srcid', 'src_num', 'detid', 'observation_id', 'observation_oid', 'ra',\n",
    "       'dec', 'duration', 'IAUNAME',]]"
   ]
  },
  {
   "cell_type": "markdown",
   "metadata": {},
   "source": []
  },
  {
   "cell_type": "code",
   "execution_count": 244,
   "metadata": {},
   "outputs": [
    {
     "name": "stdout",
     "output_type": "stream",
     "text": [
      "        nH  nH error plus     gamma  gamma error minus  0.3-7.5 flux  \\\n",
      "6  0.00006       0.020492  1.716739           0.132433  2.391201e-13   \n",
      "\n",
      "                CXO name  \n",
      "6  2CXO J173801.1+583012  \n"
     ]
    }
   ],
   "source": [
    "print(interest[['nH', 'nH error plus','gamma', 'gamma error minus', '0.3-7.5 flux','CXO name']])\n"
   ]
  },
  {
   "cell_type": "code",
   "execution_count": 251,
   "metadata": {},
   "outputs": [
    {
     "data": {
      "text/plain": [
       "Index(['# ObsID', 'unabsorbed', 'model', 'Cstat', 'nH', 'nH error plus',\n",
       "       'nH error minus', 'gamma', 'gamma error plus', 'gamma error minus',\n",
       "       '0.3-7.5 flux', 'xflux error plus', 'xflux_error_minus', '2-10 flux',\n",
       "       'flux210 error plus', 'flux210 error minus', 'Soft flux',\n",
       "       'fluxsoft error plus', 'fluxsoft error minus', 'Medium flux',\n",
       "       'fluxmed error plus', 'fluxmed error minus', 'Hard flux',\n",
       "       'fluxhard error plus', 'fluxhard error minus', 'Sum flux',\n",
       "       'fluxsum error plus', 'fluxsum error minus', 'Test Statistic', 'Ce',\n",
       "       'Cv', 'CXO name', 'RA', 'Dec', 'Z', 'galactic nH', 'counts',\n",
       "       'luminosity', 'luminosity error', 'Flux_OIII_5006',\n",
       "       'Flux_OIII_5006_err', 'Fx/F[OIII]', 'Fx/F[OIII].1', 'compton thick',\n",
       "       'srcid', 'src_num', 'detid', 'observation_id', 'observation_oid', 'ra',\n",
       "       'dec', 'duration', 'IAUNAME', 'ra_2', 'dec_2', 'IAUstripped', 'MJD',\n",
       "       'FIBERID', 'PLATE', 'CSC21P_name', 'CHANDRA_OBSID', ' OBSDATE', ' TIME',\n",
       "       'download error', 'min_sep', 'actual src_num'],\n",
       "      dtype='object')"
      ]
     },
     "execution_count": 251,
     "metadata": {},
     "output_type": "execute_result"
    }
   ],
   "source": [
    "df=pd.read_csv('/opt/pwdata/katie/xmm/xmm_download_output.csv')\n",
    "df.columns"
   ]
  },
  {
   "cell_type": "code",
   "execution_count": 245,
   "metadata": {},
   "outputs": [
    {
     "name": "stderr",
     "output_type": "stream",
     "text": [
      "/var/folders/k6/tsv820sn5p716ph672hyrv8c004djp/T/ipykernel_8647/3415539890.py:1: DtypeWarning: Columns (57,61,62) have mixed types. Specify dtype option on import or set low_memory=False.\n",
      "  csc21=pd.read_csv('/Users/kciurleo/Documents/kciurleo/AGN/csvs/CSC2.1p_OIR_SDSSspecmatch.csv')\n"
     ]
    }
   ],
   "source": [
    "csc21=pd.read_csv('/Users/kciurleo/Documents/kciurleo/AGN/csvs/CSC2.1p_OIR_SDSSspecmatch.csv')"
   ]
  },
  {
   "cell_type": "code",
   "execution_count": 24,
   "metadata": {},
   "outputs": [
    {
     "name": "stdout",
     "output_type": "stream",
     "text": [
      "863\n",
      "P0782940101PNS003EXPMAP2000.FTZ\n",
      "P0782940101PNS003IMAGE_3000.FTZ\n",
      "P0782940101PNS003IMAGE_1000.FTZ\n",
      "P0782940101PNS003SRCTSR802E.FTZ\n",
      "P0782940101PNS003SRCTSR803C.FTZ\n",
      "P0782940101PNS003SRCTSR8009.FTZ\n",
      "P0782940101PNS003PIEVLI0000.FTZ\n",
      "P0782940101PNS003SRCTSR8008.FTZ\n",
      "P0782940101PNS003SRSPEC002E.FTZ\n",
      "P0782940101PNS003IMAGE_5000.FTZ\n",
      "P0782940101PNS003BGSPEC000D.FTZ\n",
      "P0782940101PNS003BGSPEC0002.FTZ\n",
      "P0782940101PNS003BGSPEC0016.FTZ\n",
      "P0782940101PNS003BGSPEC0017.FTZ\n",
      "P0782940101PNS003BGSPEC0003.FTZ\n",
      "P0782940101PNS003BGSPEC000E.FTZ\n",
      "P0782940101PNS003EXPMAP8000.FTZ\n",
      "P0782940101PNS003SRSPEC0008.FTZ\n",
      "P0782940101PNS003BGSPEC001C.FTZ\n",
      "P0782940101PNS003BGSPEC0015.FTZ\n",
      "P0782940101PNS003BGSPEC0001.FTZ\n",
      "P0782940101PNS003EXPMAP4000.FTZ\n",
      "P0782940101PNS003BGSPEC0014.FTZ\n",
      "P0782940101PNS003BGSPEC000F.FTZ\n",
      "P0782940101PNS003BGSPEC0028.FTZ\n",
      "P0782940101PNS003SRSPEC0009.FTZ\n",
      "P0782940101PNS003SRSPEC003C.FTZ\n",
      "P0782940101PNS003SRCARF003C.FTZ\n",
      "P0782940101PNS003SRCARF0009.FTZ\n",
      "P0782940101PNS003BGSPEC0010.FTZ\n",
      "P0782940101PNS003BGSPEC0004.FTZ\n",
      "P0782940101PNS003BGSPEC000B.FTZ\n",
      "P0782940101PNS003BGSPEC000C.FTZ\n",
      "P0782940101PNS003BGSPEC0005.FTZ\n",
      "P0782940101PNS003BGSPEC0011.FTZ\n",
      "P0782940101PNS003SRCARF0008.FTZ\n",
      "P0782940101PNS003BGSPEC0007.FTZ\n",
      "P0782940101PNS003BGSPEC000A.FTZ\n",
      "P0782940101PNS003BGSPEC001D.FTZ\n",
      "P0782940101PNS003BGSPEC0012.FTZ\n",
      "P0782940101PNS003BGSPEC0006.FTZ\n",
      "P0782940101PNS003SRCARF002E.FTZ\n",
      "P0782940101PNS003SRSPEC000D.FTZ\n",
      "P0782940101PNS003SRSPEC0016.FTZ\n",
      "P0782940101PNS003SRSPEC0002.FTZ\n",
      "P0782940101PNS003SRCARF0006.FTZ\n",
      "P0782940101PNS003SRCARF0012.FTZ\n",
      "P0782940101PNS003IMAGE_2000.FTZ\n",
      "P0782940101PNS003SRCARF001D.FTZ\n",
      "P0782940101PNS003BGSPEC002E.FTZ\n",
      "P0782940101PNS003FBKTSR0000.FTZ\n",
      "P0782940101PNS003SRCARF000A.FTZ\n",
      "P0782940101PNS003SRCARF0007.FTZ\n",
      "P0782940101PNS003SRSPEC0003.FTZ\n",
      "P0782940101PNS003SRSPEC0017.FTZ\n",
      "P0782940101PNS003SRSPEC000E.FTZ\n",
      "P0782940101PNS003SRSPEC001C.FTZ\n",
      "P0782940101PNS003SRSPEC0001.FTZ\n",
      "P0782940101PNS003SRSPEC0015.FTZ\n",
      "P0782940101PNS003SRCARF0011.FTZ\n",
      "P0782940101PNS003SRCARF0005.FTZ\n",
      "P0782940101PNS003SRCARF000C.FTZ\n",
      "P0782940101PNS003BGSPEC0008.FTZ\n",
      "P0782940101PNS003EXPMAP3000.FTZ\n",
      "P0782940101PNS003BGSPEC003C.FTZ\n",
      "P0782940101PNS003BGSPEC0009.FTZ\n",
      "P0782940101PNS003SRCARF000B.FTZ\n",
      "P0782940101PNS003SRCARF0004.FTZ\n",
      "P0782940101PNS003SRCARF0010.FTZ\n",
      "P0782940101PNS003SRSPEC0014.FTZ\n",
      "P0782940101PNS003SRSPEC0028.FTZ\n",
      "P0782940101PNS003SRSPEC000F.FTZ\n",
      "P0782940101PNS003EXPMAP1000.FTZ\n",
      "P0782940101PNS003SRSPEC0004.FTZ\n",
      "P0782940101PNS003SRSPEC0010.FTZ\n",
      "P0782940101PNS003SRSPEC000B.FTZ\n",
      "P0782940101PNS003SRCARF0028.FTZ\n",
      "P0782940101PNS003SRCARF000F.FTZ\n",
      "P0782940101PNS003SRCARF0014.FTZ\n",
      "P0782940101PNS003SRCARF0001.FTZ\n",
      "P0782940101PNS003SRCARF0015.FTZ\n",
      "P0782940101PNS003SRCARF001C.FTZ\n",
      "P0782940101PNS003SRSPEC000C.FTZ\n",
      "P0782940101PNS003SRSPEC0011.FTZ\n",
      "P0782940101PNS003SRSPEC0005.FTZ\n",
      "P0782940101PNS003SRSPEC0007.FTZ\n",
      "P0782940101PNS003SRSPEC000A.FTZ\n",
      "P0782940101PNS003SRCARF000E.FTZ\n",
      "P0782940101PNS003SRCARF0003.FTZ\n",
      "P0782940101PNS003SRCARF0017.FTZ\n",
      "P0782940101PNS003SRCARF0016.FTZ\n",
      "P0782940101PNS003SRCARF0002.FTZ\n",
      "P0782940101PNS003SRCARF000D.FTZ\n",
      "P0782940101PNS003SRSPEC001D.FTZ\n",
      "P0782940101PNS003SRSPEC0006.FTZ\n",
      "P0782940101PNS003SRSPEC0012.FTZ\n",
      "P0782940101PNS003SRCTSR8005.FTZ\n",
      "P0782940101PNS003SRCTSR8011.FTZ\n",
      "P0782940101PNS003SRCTSR800C.FTZ\n",
      "P0782940101PNS003EXPMAP5000.FTZ\n",
      "P0782940101PNS003SRCTSR800B.FTZ\n",
      "P0782940101PNS003SRCTSR8010.FTZ\n",
      "P0782940101PNS003SRCTSR8004.FTZ\n",
      "P0782940101PNS003SRCTSR8012.FTZ\n",
      "P0782940101PNS003SRCTSR8006.FTZ\n",
      "P0782940101PNS003SRCTSR801D.FTZ\n",
      "P0782940101PNS003IMAGE_8000.FTZ\n",
      "P0782940101PNS003SRCTSR800A.FTZ\n",
      "P0782940101PNS003SRCTSR8007.FTZ\n",
      "P0782940101PNS003IMAGE_4000.FTZ\n",
      "P0782940101PNS003SRCTSR800E.FTZ\n",
      "P0782940101PNS003SRCTSR8017.FTZ\n",
      "P0782940101PNS003SRCTSR8003.FTZ\n",
      "P0782940101PNS003SRCTSR8002.FTZ\n",
      "P0782940101PNS003SRCTSR8016.FTZ\n",
      "P0782940101PNS003SRCTSR800D.FTZ\n",
      "P0782940101PNS003SRCTSR800F.FTZ\n",
      "P0782940101PNS003SRCTSR8028.FTZ\n",
      "P0782940101PNS003SRCTSR8014.FTZ\n",
      "P0782940101PNS003SRCTSR8015.FTZ\n",
      "P0782940101PNS003SRCTSR8001.FTZ\n",
      "P0782940101PNS003SRCTSR801C.FTZ\n",
      "122\n"
     ]
    }
   ],
   "source": [
    "os.chdir(base)\n",
    "files = os.listdir()\n",
    "print(len(files))\n",
    "interesting_files=[]\n",
    "for f in files:\n",
    "    if \"P0782940101PNS003\" in f and 'FTZ' in f:\n",
    "        interesting_files.append(f)\n",
    "        print(f)\n",
    "print(len(interesting_files))\n",
    "\n"
   ]
  },
  {
   "cell_type": "code",
   "execution_count": 241,
   "metadata": {},
   "outputs": [
    {
     "name": "stdout",
     "output_type": "stream",
     "text": [
      "xmmsas_20190401_1820-18.0.0\n"
     ]
    },
    {
     "data": {
      "text/plain": [
       "14417"
      ]
     },
     "execution_count": 241,
     "metadata": {},
     "output_type": "execute_result"
    }
   ],
   "source": [
    "sas_vers = fits.getheader(f'{base}P0782940101PNS003SRSPEC0001.FTZ',ext=0)['SASVERS']\n",
    "print(sas_vers)\n",
    "hdr =fits.getheader(f'{base}P0782940101PNS003SRSPEC0001.FTZ',ext=1)\n",
    "data=fits.getdata(f'{base}P0782940101PNS003SRSPEC0001.FTZ',ext=1)\n",
    "np.sum(data['COUNTS'])"
   ]
  },
  {
   "cell_type": "code",
   "execution_count": 109,
   "metadata": {},
   "outputs": [],
   "source": [
    "testdict={\n",
    "    '5.2.0': '2001-12-19_sas5.2.0/',\n",
    "    '5.4.0': '2003-01-28_sas_5.4.0/',\n",
    "    '6.0.0': '2004-07-30_sas6.0.0/',\n",
    "    '6.1.0': '2004-12-03_sas6.1.0/',\n",
    "    '6.5.0': '2005-12-14_sas6.5.0/',\n",
    "    '7.1.0': '2007-07-17_sas7.1.0/',\n",
    "    '8.0.0': '2008-07-23_sas8.0.0/',\n",
    "    '9.0.0': '2009-06-15_sas9.0.0/',\n",
    "    '10.0.0': '2010-04-23_sas10.0.0/',\n",
    "    '11.0.0': '2011-02-23_sas11.0.0/',\n",
    "    '12.0.1': '2012-06-25_sas12.0.1/',\n",
    "    '13.0.0': '2013-05-01_sas13.0.0/',\n",
    "    '13.5.0': '2013-12-09_sas13.5.0/',\n",
    "    '14.0.0': '2014-11-13_sas14.0.0/',\n",
    "    '15.0.0': '2016-02-01_sas15.0.0/',\n",
    "    '16.0.0': '2017-01-12_sas16.0.0/',\n",
    "    '17.0.0': '2018-06-22_sas17.0.0/',\n",
    "    '18.0.0': '2019-07-31_sas18.0.0/',\n",
    "    '19.0.0': '2020-10-28_sas19.0.0/',\n",
    "    '20.0.0': '2021-12-09_sas20.0.0/'\n",
    "}"
   ]
  },
  {
   "cell_type": "code",
   "execution_count": 122,
   "metadata": {},
   "outputs": [
    {
     "data": {
      "text/plain": [
       "0.502974967737503"
      ]
     },
     "execution_count": 122,
     "metadata": {},
     "output_type": "execute_result"
    }
   ],
   "source": [
    "newbase='/opt/pwdata/katie/xmm/'\n",
    "fits.getheader(f'{newbase}0101640201/pps/P0101640201M1S002SRSPEC0005.FTZ',ext=1)['SRC_DEC']"
   ]
  },
  {
   "cell_type": "code",
   "execution_count": null,
   "metadata": {},
   "outputs": [],
   "source": [
    "#THIS IS SETH's CODE    \n",
    "srcmodel = 'xszpowerlw.p1'\n",
    "    absmodel = 'xsphabs.abs1*xszphabs.abs2'\n",
    "    mdl = f'({absmodel} * {srcmodel})'\n",
    "    set_model(1,mdl)\n",
    "\n",
    "    abs1.nH = nH\n",
    "    freeze(abs1.nH)\n",
    "    p1.redshift = z\n",
    "    abs2.redshift = z\n",
    "\n",
    "\n",
    "    #Use the fitter to stage the background so it can be fit by sherpa\n",
    "    fitter = SingleFitter(1,f'{dir}/reextract_pha_bkg.pi',ChandraBackground)\n",
    "\n",
    "    #cannot use the built in fitter staging method since that fucks up the energy units on the plots\n",
    "    for stage in fitter.bm.stages:\n",
    "        fitter.prepare_stage(stage=stage)\n",
    "\n",
    "    #ignore low and high energy\n",
    "    ignore()\n",
    "    notice(0.3,7.5)\n",
    "    ignore(bkg_id=1)\n",
    "    notice(0.3,7.5,bkg_id=1)\n",
    "\n",
    "    #perform the bkg fit\n",
    "    fit_bkg()\n",
    "\n",
    "    #freeze the background model parameters\n",
    "    for p in get_bkg_model(1).pars:\n",
    "        p.freeze()\n",
    "\n",
    "    #set the full model\n",
    "    set_full_model(1, get_bkg_model(1)*get_bkg_scale(1)+get_response(1)(mdl))\n",
    "\n",
    "    #sherpa fit\n",
    "    fit()\n",
    "\n",
    "\n",
    "\n",
    "    #make a plot\n",
    "    plot_fit_resid(xlog=True,ylog=True)\n",
    "    plt.title(None)\n",
    "    plt.savefig(f'{dir}/sherpa_data_fit.pdf')\n",
    "    plt.close()"
   ]
  },
  {
   "cell_type": "code",
   "execution_count": 103,
   "metadata": {},
   "outputs": [
    {
     "data": {
      "text/html": [
       "<div>\n",
       "<style scoped>\n",
       "    .dataframe tbody tr th:only-of-type {\n",
       "        vertical-align: middle;\n",
       "    }\n",
       "\n",
       "    .dataframe tbody tr th {\n",
       "        vertical-align: top;\n",
       "    }\n",
       "\n",
       "    .dataframe thead th {\n",
       "        text-align: right;\n",
       "    }\n",
       "</style>\n",
       "<table border=\"1\" class=\"dataframe\">\n",
       "  <thead>\n",
       "    <tr style=\"text-align: right;\">\n",
       "      <th></th>\n",
       "      <th>srcid</th>\n",
       "      <th>detid</th>\n",
       "      <th>observation_id</th>\n",
       "      <th>observation_oid</th>\n",
       "    </tr>\n",
       "  </thead>\n",
       "  <tbody>\n",
       "    <tr>\n",
       "      <th>0</th>\n",
       "      <td>202021902010010</td>\n",
       "      <td>102021902010010</td>\n",
       "      <td>202190201</td>\n",
       "      <td>57587</td>\n",
       "    </tr>\n",
       "    <tr>\n",
       "      <th>1</th>\n",
       "      <td>202044101010008</td>\n",
       "      <td>102044101010008</td>\n",
       "      <td>204410101</td>\n",
       "      <td>57826</td>\n",
       "    </tr>\n",
       "    <tr>\n",
       "      <th>2</th>\n",
       "      <td>201016402010014</td>\n",
       "      <td>101016402010014</td>\n",
       "      <td>101640201</td>\n",
       "      <td>54912</td>\n",
       "    </tr>\n",
       "    <tr>\n",
       "      <th>3</th>\n",
       "      <td>201016402010014</td>\n",
       "      <td>101016402010014</td>\n",
       "      <td>101640201</td>\n",
       "      <td>54912</td>\n",
       "    </tr>\n",
       "    <tr>\n",
       "      <th>4</th>\n",
       "      <td>208434401010012</td>\n",
       "      <td>108434401010012</td>\n",
       "      <td>843440101</td>\n",
       "      <td>70607</td>\n",
       "    </tr>\n",
       "    <tr>\n",
       "      <th>...</th>\n",
       "      <td>...</td>\n",
       "      <td>...</td>\n",
       "      <td>...</td>\n",
       "      <td>...</td>\n",
       "    </tr>\n",
       "    <tr>\n",
       "      <th>151</th>\n",
       "      <td>207829401010012</td>\n",
       "      <td>107829401010012</td>\n",
       "      <td>782940101</td>\n",
       "      <td>67487</td>\n",
       "    </tr>\n",
       "    <tr>\n",
       "      <th>152</th>\n",
       "      <td>200930302010011</td>\n",
       "      <td>100930302010011</td>\n",
       "      <td>93030201</td>\n",
       "      <td>54723</td>\n",
       "    </tr>\n",
       "    <tr>\n",
       "      <th>153</th>\n",
       "      <td>200423413010006</td>\n",
       "      <td>108273504010010</td>\n",
       "      <td>827350401</td>\n",
       "      <td>71125</td>\n",
       "    </tr>\n",
       "    <tr>\n",
       "      <th>154</th>\n",
       "      <td>200423413010006</td>\n",
       "      <td>100423413010006</td>\n",
       "      <td>42341301</td>\n",
       "      <td>54301</td>\n",
       "    </tr>\n",
       "    <tr>\n",
       "      <th>155</th>\n",
       "      <td>202112801010015</td>\n",
       "      <td>102112801010015</td>\n",
       "      <td>211280101</td>\n",
       "      <td>58068</td>\n",
       "    </tr>\n",
       "  </tbody>\n",
       "</table>\n",
       "<p>156 rows × 4 columns</p>\n",
       "</div>"
      ],
      "text/plain": [
       "               srcid            detid  observation_id  observation_oid\n",
       "0    202021902010010  102021902010010       202190201            57587\n",
       "1    202044101010008  102044101010008       204410101            57826\n",
       "2    201016402010014  101016402010014       101640201            54912\n",
       "3    201016402010014  101016402010014       101640201            54912\n",
       "4    208434401010012  108434401010012       843440101            70607\n",
       "..               ...              ...             ...              ...\n",
       "151  207829401010012  107829401010012       782940101            67487\n",
       "152  200930302010011  100930302010011        93030201            54723\n",
       "153  200423413010006  108273504010010       827350401            71125\n",
       "154  200423413010006  100423413010006        42341301            54301\n",
       "155  202112801010015  102112801010015       211280101            58068\n",
       "\n",
       "[156 rows x 4 columns]"
      ]
     },
     "execution_count": 103,
     "metadata": {},
     "output_type": "execute_result"
    }
   ],
   "source": [
    "df[['srcid', 'detid', 'observation_id', 'observation_oid']].astype(int)"
   ]
  },
  {
   "cell_type": "code",
   "execution_count": 252,
   "metadata": {},
   "outputs": [],
   "source": [
    "#let's figure out how many \"good\" chandra objects we have\n",
    "final_min_abs = pd.read_csv('/opt/pwdata/katie/csc2.1/final_data/final_info_min_abs_full.csv')\n",
    "final_full = pd.read_csv('/opt/pwdata/katie/csc2.1/final_data/final_info_full.csv')"
   ]
  },
  {
   "cell_type": "code",
   "execution_count": 260,
   "metadata": {},
   "outputs": [
    {
     "data": {
      "text/plain": [
       "564"
      ]
     },
     "execution_count": 260,
     "metadata": {},
     "output_type": "execute_result"
    }
   ],
   "source": [
    "len(final_full['CXO name'].unique())"
   ]
  },
  {
   "cell_type": "code",
   "execution_count": 291,
   "metadata": {},
   "outputs": [
    {
     "data": {
      "text/plain": [
       "78"
      ]
     },
     "execution_count": 291,
     "metadata": {},
     "output_type": "execute_result"
    }
   ],
   "source": [
    "len(final_min_abs['CXO name'].unique())"
   ]
  },
  {
   "cell_type": "code",
   "execution_count": 324,
   "metadata": {},
   "outputs": [],
   "source": [
    "#Find all the guys for which all the chandra observations are less than 100 or 300 counts\n",
    "low_count_names=[]\n",
    "high_count_names=[]\n",
    "for i in range(len(final_min_abs['CXO name'].unique())):\n",
    "    name=final_min_abs['CXO name'].unique()[i]\n",
    "\n",
    "    df=final_full.loc[final_full['CXO name']==name]\n",
    "    if (df['counts'] < 300).all():\n",
    "        low_count_names.append(name)\n",
    "    else:\n",
    "        high_count_names.append(name)\n",
    "\n",
    "low_count = final_min_abs.loc[final_min_abs['CXO name'].isin(low_count_names)]\n",
    "high_count = final_min_abs.loc[final_min_abs['CXO name'].isin(high_count_names)]\n"
   ]
  },
  {
   "cell_type": "code",
   "execution_count": 323,
   "metadata": {},
   "outputs": [
    {
     "data": {
      "text/plain": [
       "1     52797\n",
       "7     52797\n",
       "15    52797\n",
       "16    52797\n",
       "30    52797\n",
       "31    52797\n",
       "56    52797\n",
       "57    52797\n",
       "64    52797\n",
       "66    52797\n",
       "67    52797\n",
       "68    52797\n",
       "69    52797\n",
       "70    52797\n",
       "71    52797\n",
       "72    52797\n",
       "73    52797\n",
       "74    52797\n",
       "75    52797\n",
       "92    52797\n",
       "93    52797\n",
       "Name: MJD, dtype: int64"
      ]
     },
     "execution_count": 323,
     "metadata": {},
     "output_type": "execute_result"
    }
   ],
   "source": [
    "high_count['MJD']\n"
   ]
  },
  {
   "cell_type": "code",
   "execution_count": 328,
   "metadata": {},
   "outputs": [
    {
     "data": {
      "text/html": [
       "<div>\n",
       "<style scoped>\n",
       "    .dataframe tbody tr th:only-of-type {\n",
       "        vertical-align: middle;\n",
       "    }\n",
       "\n",
       "    .dataframe tbody tr th {\n",
       "        vertical-align: top;\n",
       "    }\n",
       "\n",
       "    .dataframe thead th {\n",
       "        text-align: right;\n",
       "    }\n",
       "</style>\n",
       "<table border=\"1\" class=\"dataframe\">\n",
       "  <thead>\n",
       "    <tr style=\"text-align: right;\">\n",
       "      <th></th>\n",
       "      <th># ObsID</th>\n",
       "      <th>unabsorbed</th>\n",
       "      <th>model</th>\n",
       "      <th>Cstat</th>\n",
       "      <th>nH</th>\n",
       "      <th>nH error plus</th>\n",
       "      <th>nH error minus</th>\n",
       "      <th>gamma</th>\n",
       "      <th>gamma error plus</th>\n",
       "      <th>gamma error minus</th>\n",
       "      <th>...</th>\n",
       "      <th>Z</th>\n",
       "      <th>galactic nH</th>\n",
       "      <th>counts</th>\n",
       "      <th>luminosity</th>\n",
       "      <th>luminosity error</th>\n",
       "      <th>Flux_OIII_5006</th>\n",
       "      <th>Flux_OIII_5006_err</th>\n",
       "      <th>Fx/F[OIII]</th>\n",
       "      <th>Fx/F[OIII].1</th>\n",
       "      <th>compton thick</th>\n",
       "    </tr>\n",
       "  </thead>\n",
       "  <tbody>\n",
       "    <tr>\n",
       "      <th>701</th>\n",
       "      <td>4222</td>\n",
       "      <td>False</td>\n",
       "      <td>res</td>\n",
       "      <td>614.7384725253677</td>\n",
       "      <td>1.1946943249848343</td>\n",
       "      <td>0.5097766064564085</td>\n",
       "      <td>-0.5097766064564085</td>\n",
       "      <td>1.9</td>\n",
       "      <td>NaN</td>\n",
       "      <td>NaN</td>\n",
       "      <td>...</td>\n",
       "      <td>0.130187</td>\n",
       "      <td>0.0108</td>\n",
       "      <td>84</td>\n",
       "      <td>1.2158074508954104e+43</td>\n",
       "      <td>2.1342420699844385e+42</td>\n",
       "      <td>9.884091</td>\n",
       "      <td>15.62492</td>\n",
       "      <td>2712.89707659167</td>\n",
       "      <td>4314.94869789026</td>\n",
       "      <td>True</td>\n",
       "    </tr>\n",
       "  </tbody>\n",
       "</table>\n",
       "<p>1 rows × 44 columns</p>\n",
       "</div>"
      ],
      "text/plain": [
       "    # ObsID  unabsorbed model              Cstat                  nH  \\\n",
       "701    4222       False   res  614.7384725253677  1.1946943249848343   \n",
       "\n",
       "          nH error plus       nH error minus gamma gamma error plus  \\\n",
       "701  0.5097766064564085  -0.5097766064564085   1.9              NaN   \n",
       "\n",
       "    gamma error minus  ...         Z galactic nH counts  \\\n",
       "701               NaN  ...  0.130187      0.0108     84   \n",
       "\n",
       "                 luminosity        luminosity error Flux_OIII_5006  \\\n",
       "701  1.2158074508954104e+43  2.1342420699844385e+42       9.884091   \n",
       "\n",
       "    Flux_OIII_5006_err        Fx/F[OIII]      Fx/F[OIII].1 compton thick  \n",
       "701           15.62492  2712.89707659167  4314.94869789026          True  \n",
       "\n",
       "[1 rows x 44 columns]"
      ]
     },
     "execution_count": 328,
     "metadata": {},
     "output_type": "execute_result"
    }
   ],
   "source": [
    "final_full.loc[final_full['CXO name']=='2CXO J142916.8+335641']"
   ]
  },
  {
   "cell_type": "code",
   "execution_count": 273,
   "metadata": {},
   "outputs": [],
   "source": [
    "seyferts=pd.read_csv('/Users/kciurleo/Documents/kciurleo/AGN/csvs/obsids_seyferts.csv', low_memory=False)"
   ]
  },
  {
   "cell_type": "code",
   "execution_count": 280,
   "metadata": {},
   "outputs": [
    {
     "name": "stdout",
     "output_type": "stream",
     "text": [
      "717\n"
     ]
    }
   ],
   "source": [
    "print(len(seyferts['CSC21P_name'].unique()))"
   ]
  },
  {
   "cell_type": "code",
   "execution_count": 283,
   "metadata": {},
   "outputs": [],
   "source": [
    "low_count_names_whole_sey=[]\n",
    "for i in range(len(seyferts['CSC21P_name'].unique())):\n",
    "    name=seyferts['CSC21P_name'].unique()[i]\n",
    "\n",
    "    df=final_full.loc[final_full['CXO name']==name]\n",
    "    if (df['counts'] < 300).all():\n",
    "        low_count_names_whole_sey.append(name)\n",
    "\n",
    "low_count_all_sey = final_full.loc[final_full['CXO name'].isin(low_count_names_whole_sey)]"
   ]
  },
  {
   "cell_type": "code",
   "execution_count": 284,
   "metadata": {},
   "outputs": [
    {
     "data": {
      "text/plain": [
       "512"
      ]
     },
     "execution_count": 284,
     "metadata": {},
     "output_type": "execute_result"
    }
   ],
   "source": [
    "len(low_count_all_sey['CXO name'].unique())"
   ]
  },
  {
   "cell_type": "code",
   "execution_count": 288,
   "metadata": {},
   "outputs": [
    {
     "data": {
      "text/plain": [
       "2.477917247791725"
      ]
     },
     "execution_count": 288,
     "metadata": {},
     "output_type": "execute_result"
    }
   ],
   "source": [
    "((717-512)/717)/((78-69)/78)"
   ]
  },
  {
   "cell_type": "code",
   "execution_count": 338,
   "metadata": {},
   "outputs": [],
   "source": [
    "observed_all=pd.read_csv('/Users/kciurleo/Documents/kciurleo/AGN/csvs/ALL_observed_full_info.csv')"
   ]
  },
  {
   "cell_type": "code",
   "execution_count": 344,
   "metadata": {},
   "outputs": [
    {
     "data": {
      "text/html": [
       "<div>\n",
       "<style scoped>\n",
       "    .dataframe tbody tr th:only-of-type {\n",
       "        vertical-align: middle;\n",
       "    }\n",
       "\n",
       "    .dataframe tbody tr th {\n",
       "        vertical-align: top;\n",
       "    }\n",
       "\n",
       "    .dataframe thead th {\n",
       "        text-align: right;\n",
       "    }\n",
       "</style>\n",
       "<table border=\"1\" class=\"dataframe\">\n",
       "  <thead>\n",
       "    <tr style=\"text-align: right;\">\n",
       "      <th></th>\n",
       "      <th>RA</th>\n",
       "      <th>Dec</th>\n",
       "    </tr>\n",
       "  </thead>\n",
       "  <tbody>\n",
       "    <tr>\n",
       "      <th>4</th>\n",
       "      <td>121.395863</td>\n",
       "      <td>24.163962</td>\n",
       "    </tr>\n",
       "  </tbody>\n",
       "</table>\n",
       "</div>"
      ],
      "text/plain": [
       "           RA        Dec\n",
       "4  121.395863  24.163962"
      ]
     },
     "execution_count": 344,
     "metadata": {},
     "output_type": "execute_result"
    }
   ],
   "source": [
    "interest=observed_all.loc[observed_all['# ObsID']=='20889']\n",
    "interest[['RA', 'Dec']]\n",
    "interest[\"observation_id\"].iloc[0]"
   ]
  },
  {
   "cell_type": "code",
   "execution_count": 364,
   "metadata": {},
   "outputs": [
    {
     "name": "stdout",
     "output_type": "stream",
     "text": [
      "/Users/kciurleo/Downloads/0203280201/pps/P0203280201R1S004SRSPEC2003.FTZ\n",
      "121.231651306152 24.1906509399414\n",
      "/Users/kciurleo/Downloads/0203280201/pps/P0203280201M2S002SRSPEC0001.PNG\n",
      "/Users/kciurleo/Downloads/0203280201/pps/P0203280201R2S005SRSPEC1003.FTZ\n",
      "121.231651306152 24.1906509399414\n",
      "/Users/kciurleo/Downloads/0203280201/pps/P0203280201R2S005SRSPEC0003.PDF\n",
      "/Users/kciurleo/Downloads/0203280201/pps/P0203280201PNS003SRSPEC0004.PNG\n",
      "/Users/kciurleo/Downloads/0203280201/pps/P0203280201PNS003SRSPEC0002.PNG\n",
      "/Users/kciurleo/Downloads/0203280201/pps/P0203280201PNS003SRSPEC0003.PNG\n",
      "/Users/kciurleo/Downloads/0203280201/pps/P0203280201PNS003SRSPEC0001.PNG\n",
      "/Users/kciurleo/Downloads/0203280201/pps/P0203280201PNS003SRSPEC0001.FTZ\n",
      "121.231746201438 24.1906220110476\n",
      "/Users/kciurleo/Downloads/0203280201/pps/P0203280201R2S005SRSPEC2003.FTZ\n",
      "121.231651306152 24.1906509399414\n",
      "/Users/kciurleo/Downloads/0203280201/pps/P0203280201PNS003SRSPEC0003.FTZ\n",
      "121.396133657603 24.1644081109002\n",
      "/Users/kciurleo/Downloads/0203280201/pps/P0203280201PNS003SRSPEC0002.FTZ\n",
      "121.24482613596 24.021990643937\n",
      "/Users/kciurleo/Downloads/0203280201/pps/P0203280201PNS003SRSPEC0005.FTZ\n",
      "121.379885343988 24.0523038297581\n",
      "/Users/kciurleo/Downloads/0203280201/pps/P0203280201R1S004SRSPEC1003.FTZ\n",
      "121.231651306152 24.1906509399414\n",
      "/Users/kciurleo/Downloads/0203280201/pps/P0203280201PNS003SRSPEC0004.FTZ\n",
      "121.624312133754 24.3327161309172\n",
      "/Users/kciurleo/Downloads/0203280201/pps/P0203280201M2S002SRSPEC0001.FTZ\n",
      "121.231746201438 24.1906220110476\n",
      "/Users/kciurleo/Downloads/0203280201/pps/P0203280201R1S004SRSPEC0003.PDF\n"
     ]
    }
   ],
   "source": [
    "base=f'/Users/kciurleo/Downloads/0{interest[\"observation_id\"].iloc[0]}/pps/'\n",
    "\n",
    "filelist=glob.glob(f'{base}/*SRSPEC*')\n",
    "for i in filelist:\n",
    "    try:\n",
    "        print(i)\n",
    "        hdr =fits.getheader(i,ext=1)\n",
    "        print(hdr['SRC_RA'], hdr['SRC_DEC'])\n",
    "    except:\n",
    "        continue"
   ]
  },
  {
   "cell_type": "code",
   "execution_count": 367,
   "metadata": {},
   "outputs": [
    {
     "name": "stdout",
     "output_type": "stream",
     "text": [
      "xmmsas_20190401_1820-18.0.0\n"
     ]
    }
   ],
   "source": [
    "correct_file='/Users/kciurleo/Downloads/0203280201/pps/P0203280201PNS003SRSPEC0003.FTZ'\n",
    "sas_vers = fits.getheader(correct_file,ext=0)['SASVERS']\n",
    "print(sas_vers)"
   ]
  },
  {
   "cell_type": "code",
   "execution_count": 368,
   "metadata": {},
   "outputs": [
    {
     "name": "stdout",
     "output_type": "stream",
     "text": [
      "read ARF file /Users/kciurleo/Downloads/0203280201/pps/P0203280201PNS003SRCARF0003.FTZ\n",
      "read RMF file /Users/kciurleo/Downloads/0203280201/pps/epn_e1_ff20_sdY9.rmf\n",
      "read background file /Users/kciurleo/Downloads/0203280201/pps/P0203280201PNS003BGSPEC0003.FTZ\n",
      "dataset 1: 0:20.48 Energy (keV) -> no data\n",
      "dataset 1: no data -> 0.324919:20.48 Energy (keV)\n"
     ]
    },
    {
     "name": "stderr",
     "output_type": "stream",
     "text": [
      "/opt/anaconda3/envs/ciao-4.16/lib/python3.11/site-packages/sherpa/models/parameter.py:358: FutureWarning: Calling float on a single element Series is deprecated and will raise a TypeError in the future. Use float(ser.iloc[0]) instead\n",
      "  val = SherpaFloat(val)\n"
     ]
    },
    {
     "name": "stdout",
     "output_type": "stream",
     "text": [
      "Dataset               = 1\n",
      "Method                = levmar\n",
      "Statistic             = chi2datavar\n",
      "Initial fit statistic = 6.05849e+11\n",
      "Final fit statistic   = 53.5334 at function evaluation 276\n",
      "Data points           = 9\n",
      "Degrees of freedom    = 6\n",
      "Probability [Q-value] = 9.16102e-10\n",
      "Reduced statistic     = 8.92224\n",
      "Change in statistic   = 6.05849e+11\n",
      "   abs2.nH        0            +/- 0.409439    \n",
      "   p1.PhoIndex    -0.208381    +/- 0.241195    \n",
      "   p1.norm        2.08253e-06  +/- 9.06314e-07 \n",
      "WARNING: parameter value abs2.nH is at its minimum boundary 0.0\n"
     ]
    },
    {
     "ename": "EstErr",
     "evalue": "reduced statistic larger than 3",
     "output_type": "error",
     "traceback": [
      "\u001b[0;31m---------------------------------------------------------------------------\u001b[0m",
      "\u001b[0;31mEstErr\u001b[0m                                    Traceback (most recent call last)",
      "Cell \u001b[0;32mIn[368], line 38\u001b[0m\n\u001b[1;32m     35\u001b[0m plt\u001b[38;5;241m.\u001b[39msavefig(\u001b[38;5;124mf\u001b[39m\u001b[38;5;124m'\u001b[39m\u001b[38;5;132;01m{\u001b[39;00mbase\u001b[38;5;132;01m}\u001b[39;00m\u001b[38;5;124m/sherpa_fit_resid_xmm.pdf\u001b[39m\u001b[38;5;124m'\u001b[39m)\n\u001b[1;32m     37\u001b[0m \u001b[38;5;66;03m#Get errors\u001b[39;00m\n\u001b[0;32m---> 38\u001b[0m \u001b[43mconf\u001b[49m\u001b[43m(\u001b[49m\u001b[43m)\u001b[49m\n\u001b[1;32m     39\u001b[0m res \u001b[38;5;241m=\u001b[39m get_conf_results()\n\u001b[1;32m     41\u001b[0m \u001b[38;5;66;03m#nH\u001b[39;00m\n",
      "File \u001b[0;32m<string>:1\u001b[0m, in \u001b[0;36mconf\u001b[0;34m(*args)\u001b[0m\n",
      "File \u001b[0;32m/opt/anaconda3/envs/ciao-4.16/lib/python3.11/site-packages/sherpa/ui/utils.py:10976\u001b[0m, in \u001b[0;36mSession.conf\u001b[0;34m(self, *args)\u001b[0m\n\u001b[1;32m  10771\u001b[0m \u001b[38;5;28;01mdef\u001b[39;00m \u001b[38;5;21mconf\u001b[39m(\u001b[38;5;28mself\u001b[39m, \u001b[38;5;241m*\u001b[39margs):\n\u001b[1;32m  10772\u001b[0m \u001b[38;5;250m    \u001b[39m\u001b[38;5;124;03m\"\"\"Estimate parameter confidence intervals using the confidence method.\u001b[39;00m\n\u001b[1;32m  10773\u001b[0m \n\u001b[1;32m  10774\u001b[0m \u001b[38;5;124;03m    The `conf` command computes confidence interval bounds for the\u001b[39;00m\n\u001b[0;32m   (...)\u001b[0m\n\u001b[1;32m  10974\u001b[0m \n\u001b[1;32m  10975\u001b[0m \u001b[38;5;124;03m    \"\"\"\u001b[39;00m\n\u001b[0;32m> 10976\u001b[0m     \u001b[38;5;28mself\u001b[39m\u001b[38;5;241m.\u001b[39m_confidence_results \u001b[38;5;241m=\u001b[39m \u001b[38;5;28;43mself\u001b[39;49m\u001b[38;5;241;43m.\u001b[39;49m\u001b[43m_est_errors\u001b[49m\u001b[43m(\u001b[49m\u001b[43margs\u001b[49m\u001b[43m,\u001b[49m\u001b[43m \u001b[49m\u001b[38;5;124;43m'\u001b[39;49m\u001b[38;5;124;43mconfidence\u001b[39;49m\u001b[38;5;124;43m'\u001b[39;49m\u001b[43m)\u001b[49m\n",
      "File \u001b[0;32m/opt/anaconda3/envs/ciao-4.16/lib/python3.11/site-packages/sherpa/ui/utils.py:10634\u001b[0m, in \u001b[0;36mSession._est_errors\u001b[0;34m(self, args, methodname)\u001b[0m\n\u001b[1;32m  10631\u001b[0m     parlist \u001b[38;5;241m=\u001b[39m \u001b[38;5;28;01mNone\u001b[39;00m\n\u001b[1;32m  10633\u001b[0m ids, f \u001b[38;5;241m=\u001b[39m \u001b[38;5;28mself\u001b[39m\u001b[38;5;241m.\u001b[39m_get_fit(\u001b[38;5;28mid\u001b[39m, otherids, \u001b[38;5;28mself\u001b[39m\u001b[38;5;241m.\u001b[39m_estmethods[methodname])\n\u001b[0;32m> 10634\u001b[0m res \u001b[38;5;241m=\u001b[39m \u001b[43mf\u001b[49m\u001b[38;5;241;43m.\u001b[39;49m\u001b[43mest_errors\u001b[49m\u001b[43m(\u001b[49m\u001b[38;5;28;43mself\u001b[39;49m\u001b[38;5;241;43m.\u001b[39;49m\u001b[43m_methods\u001b[49m\u001b[43m,\u001b[49m\u001b[43m \u001b[49m\u001b[43mparlist\u001b[49m\u001b[43m)\u001b[49m\n\u001b[1;32m  10635\u001b[0m res\u001b[38;5;241m.\u001b[39mdatasets \u001b[38;5;241m=\u001b[39m ids\n\u001b[1;32m  10636\u001b[0m info(res\u001b[38;5;241m.\u001b[39mformat())\n",
      "File \u001b[0;32m/opt/anaconda3/envs/ciao-4.16/lib/python3.11/site-packages/sherpa/fit.py:55\u001b[0m, in \u001b[0;36mevaluates_model.<locals>.run\u001b[0;34m(fit, *args, **kwargs)\u001b[0m\n\u001b[1;32m     53\u001b[0m cache \u001b[38;5;241m=\u001b[39m kwargs\u001b[38;5;241m.\u001b[39mpop(\u001b[38;5;124m'\u001b[39m\u001b[38;5;124mcache\u001b[39m\u001b[38;5;124m'\u001b[39m, \u001b[38;5;28;01mTrue\u001b[39;00m)\n\u001b[1;32m     54\u001b[0m fit\u001b[38;5;241m.\u001b[39mmodel\u001b[38;5;241m.\u001b[39mstartup(cache\u001b[38;5;241m=\u001b[39mcache)\n\u001b[0;32m---> 55\u001b[0m result \u001b[38;5;241m=\u001b[39m \u001b[43mfunc\u001b[49m\u001b[43m(\u001b[49m\u001b[43mfit\u001b[49m\u001b[43m,\u001b[49m\u001b[43m \u001b[49m\u001b[38;5;241;43m*\u001b[39;49m\u001b[43margs\u001b[49m\u001b[43m,\u001b[49m\u001b[43m \u001b[49m\u001b[38;5;241;43m*\u001b[39;49m\u001b[38;5;241;43m*\u001b[39;49m\u001b[43mkwargs\u001b[49m\u001b[43m)\u001b[49m\n\u001b[1;32m     56\u001b[0m fit\u001b[38;5;241m.\u001b[39mmodel\u001b[38;5;241m.\u001b[39mteardown()\n\u001b[1;32m     57\u001b[0m \u001b[38;5;28;01mreturn\u001b[39;00m result\n",
      "File \u001b[0;32m/opt/anaconda3/envs/ciao-4.16/lib/python3.11/site-packages/sherpa/fit.py:1348\u001b[0m, in \u001b[0;36mFit.est_errors\u001b[0;34m(self, methoddict, parlist)\u001b[0m\n\u001b[1;32m   1344\u001b[0m         \u001b[38;5;28;01mraise\u001b[39;00m EstErr(\u001b[38;5;124m'\u001b[39m\u001b[38;5;124mnodegfreedom\u001b[39m\u001b[38;5;124m'\u001b[39m)\n\u001b[1;32m   1346\u001b[0m     \u001b[38;5;28;01mif\u001b[39;00m (\u001b[38;5;28mhasattr\u001b[39m(\u001b[38;5;28mself\u001b[39m\u001b[38;5;241m.\u001b[39mestmethod, \u001b[38;5;124m\"\u001b[39m\u001b[38;5;124mmax_rstat\u001b[39m\u001b[38;5;124m\"\u001b[39m) \u001b[38;5;129;01mand\u001b[39;00m\n\u001b[1;32m   1347\u001b[0m             (\u001b[38;5;28mself\u001b[39m\u001b[38;5;241m.\u001b[39mcalc_stat() \u001b[38;5;241m/\u001b[39m dof) \u001b[38;5;241m>\u001b[39m \u001b[38;5;28mself\u001b[39m\u001b[38;5;241m.\u001b[39mestmethod\u001b[38;5;241m.\u001b[39mmax_rstat):\n\u001b[0;32m-> 1348\u001b[0m         \u001b[38;5;28;01mraise\u001b[39;00m EstErr(\u001b[38;5;124m'\u001b[39m\u001b[38;5;124mrstat>max\u001b[39m\u001b[38;5;124m'\u001b[39m, \u001b[38;5;28mstr\u001b[39m(\u001b[38;5;28mself\u001b[39m\u001b[38;5;241m.\u001b[39mestmethod\u001b[38;5;241m.\u001b[39mmax_rstat))\n\u001b[1;32m   1350\u001b[0m \u001b[38;5;66;03m# If statistic is chi-squared, change fitting method to\u001b[39;00m\n\u001b[1;32m   1351\u001b[0m \u001b[38;5;66;03m# Levenberg-Marquardt; else, switch to NelderMead.  (We\u001b[39;00m\n\u001b[1;32m   1352\u001b[0m \u001b[38;5;66;03m# will do fitting during projection, and therefore don't\u001b[39;00m\n\u001b[0;32m   (...)\u001b[0m\n\u001b[1;32m   1355\u001b[0m \u001b[38;5;66;03m# If current method is not LM or NM, warn it is not a good\u001b[39;00m\n\u001b[1;32m   1356\u001b[0m \u001b[38;5;66;03m# method for estimating parameter limits.\u001b[39;00m\n\u001b[1;32m   1357\u001b[0m \u001b[38;5;28;01mif\u001b[39;00m (\u001b[38;5;28mtype\u001b[39m(\u001b[38;5;28mself\u001b[39m\u001b[38;5;241m.\u001b[39mestmethod) \u001b[38;5;129;01mis\u001b[39;00m \u001b[38;5;129;01mnot\u001b[39;00m Covariance \u001b[38;5;129;01mand\u001b[39;00m\n\u001b[1;32m   1358\u001b[0m         \u001b[38;5;28mtype\u001b[39m(\u001b[38;5;28mself\u001b[39m\u001b[38;5;241m.\u001b[39mmethod) \u001b[38;5;129;01mis\u001b[39;00m \u001b[38;5;129;01mnot\u001b[39;00m NelderMead \u001b[38;5;129;01mand\u001b[39;00m\n\u001b[1;32m   1359\u001b[0m         \u001b[38;5;28mtype\u001b[39m(\u001b[38;5;28mself\u001b[39m\u001b[38;5;241m.\u001b[39mmethod) \u001b[38;5;129;01mis\u001b[39;00m \u001b[38;5;129;01mnot\u001b[39;00m LevMar):\n",
      "\u001b[0;31mEstErr\u001b[0m: reduced statistic larger than 3"
     ]
    },
    {
     "data": {
      "image/png": "[encoded data removed]",
      "text/plain": [
       "<Figure size 640x480 with 1 Axes>"
      ]
     },
     "metadata": {},
     "output_type": "display_data"
    },
    {
     "data": {
      "image/png": "[encoded data removed]",
      "text/plain": [
       "<Figure size 640x480 with 1 Axes>"
      ]
     },
     "metadata": {},
     "output_type": "display_data"
    }
   ],
   "source": [
    "mdl = f'(xsphabs.abs1*xszphabs.abs2 * xszpowerlw.p1)'\n",
    "\n",
    "nH=interest['galactic nH']\n",
    "z=interest['Z']\n",
    "\n",
    "clean()\n",
    "\n",
    "#stats are chi squared with a 3 sigma error and units of eV\n",
    "set_stat('chi2datavar')\n",
    "set_conf_opt(\"sigma\", 3)\n",
    "\n",
    "#load in file, ignore outer limits, subtract the background, set model\n",
    "load_pha(correct_file)\n",
    "ignore()\n",
    "notice(0.35,10)\n",
    "subtract()\n",
    "set_model(1,mdl)\n",
    "\n",
    "#freeze galactic nH, set redshifts\n",
    "abs1.nH = nH\n",
    "freeze(abs1.nH)\n",
    "p1.redshift = z\n",
    "abs2.redshift = z\n",
    "fit()\n",
    "\n",
    "#Plotting\n",
    "plt.figure()\n",
    "plot_fit(xlog=True, ylog=True) \n",
    "plot_model_component(p1, overplot=True) \n",
    "plt.savefig(f'{base}/sherpa_fit_xmm.pdf')\n",
    "\n",
    "#residuals\n",
    "plt.figure()\n",
    "plot_resid(xlog=True, ylog=True)\n",
    "plt.savefig(f'{base}/sherpa_fit_resid_xmm.pdf')\n",
    "\n",
    "#Get errors\n",
    "conf()\n",
    "res = get_conf_results()\n",
    "\n",
    "#nH\n",
    "int_nH = res.parvals[res.parnames.index('abs2.nH')]\n",
    "int_nH_error_up = res.parmaxes[res.parnames.index('abs2.nH')]\n",
    "int_nH_error_down = res.parmins[res.parnames.index('abs2.nH')]\n",
    "\n",
    "#gamma\n",
    "gamma = res.parvals[res.parnames.index('p1.PhoIndex')]\n",
    "gamma_error_up = res.parmaxes[res.parnames.index('p1.PhoIndex')]\n",
    "gamma_error_down = res.parmins[res.parnames.index('p1.PhoIndex')]\n",
    "\n",
    "#get energy in keV\n",
    "set_analysis('energy')\n",
    "print('eflux')\n",
    "\n",
    "#based on an example, set the errors as the upper errors\n",
    "testy=sample_energy_flux(2, 10, scales=res.parmaxes)\n",
    "\n",
    "#include the model to get unabsorbed flux; if we want absorbed, let it be none\n",
    "funabs=calc_energy_flux(0.3, 7.5, model=p1)\n",
    "f210=calc_energy_flux(2, 10, model=p1)\n",
    "\n",
    "#erosita bands\n",
    "fsoft=calc_energy_flux(0.2, 0.6, model=p1)\n",
    "fmed=calc_energy_flux(0.6, 2.3, model=p1)\n",
    "fhard=calc_energy_flux(2.3, 5, model=p1)\n",
    "fsum=calc_energy_flux(0.2, 5, model=p1)"
   ]
  },
  {
   "cell_type": "code",
   "execution_count": 388,
   "metadata": {},
   "outputs": [
    {
     "name": "stdout",
     "output_type": "stream",
     "text": [
      "            RA        Dec\n",
      "30  181.942147  43.126871\n",
      "31  181.942147  43.126871\n",
      "30    655800101\n",
      "31    655800501\n",
      "Name: observation_id, dtype: int64\n"
     ]
    }
   ],
   "source": [
    "#okay take 2\n",
    "interest=observed_all.loc[observed_all['CXO name']=='2CXO J120746.1+430736']\n",
    "print(interest[['RA', 'Dec']])\n",
    "print(interest['observation_id'])"
   ]
  },
  {
   "cell_type": "code",
   "execution_count": 383,
   "metadata": {},
   "outputs": [
    {
     "name": "stdout",
     "output_type": "stream",
     "text": [
      "/Users/kciurleo/Downloads/0655800501/pps/P0655800501R2S005SRSPEC1004.FTZ\n",
      "182.069152832031 43.0526695251465\n",
      "/Users/kciurleo/Downloads/0655800501/pps/P0655800501R1S004SRSPEC2004.FTZ\n",
      "182.069152832031 43.0526695251465\n",
      "/Users/kciurleo/Downloads/0655800501/pps/P0655800501PNS003SRSPEC0009.FTZ\n",
      "182.031356414449 43.0486782733477\n",
      "/Users/kciurleo/Downloads/0655800501/pps/P0655800501PNS003SRSPEC0026.FTZ\n",
      "181.769015355724 43.0639459679602\n",
      "/Users/kciurleo/Downloads/0655800501/pps/P0655800501M1S001SRSPEC0003.FTZ\n",
      "182.067249104548 42.979689972923\n",
      "/Users/kciurleo/Downloads/0655800501/pps/P0655800501M1S001SRSPEC0002.FTZ\n",
      "182.069108600903 43.0527087983277\n",
      "/Users/kciurleo/Downloads/0655800501/pps/P0655800501PNS003SRSPEC0001.FTZ\n",
      "181.763244607216 43.0655408507636\n",
      "/Users/kciurleo/Downloads/0655800501/pps/P0655800501PNS003SRSPEC0003.FTZ\n",
      "182.067249104548 42.979689972923\n",
      "/Users/kciurleo/Downloads/0655800501/pps/P0655800501M1S001SRSPEC0001.FTZ\n",
      "181.763244607216 43.0655408507636\n",
      "/Users/kciurleo/Downloads/0655800501/pps/P0655800501R1S004SRSPEC1004.FTZ\n",
      "182.069152832031 43.0526695251465\n",
      "/Users/kciurleo/Downloads/0655800501/pps/P0655800501PNS003SRSPEC0006.FTZ\n",
      "181.932770056859 42.9449014802284\n",
      "/Users/kciurleo/Downloads/0655800501/pps/P0655800501M1S001SRSPEC0005.FTZ\n",
      "181.846332004573 42.9919543073314\n",
      "/Users/kciurleo/Downloads/0655800501/pps/P0655800501M1S001SRSPEC0004.FTZ\n",
      "181.941881177765 43.1262246513592\n",
      "/Users/kciurleo/Downloads/0655800501/pps/P0655800501PNS003SRSPEC0007.FTZ\n",
      "182.012480591096 43.2311782123354\n",
      "/Users/kciurleo/Downloads/0655800501/pps/P0655800501PNS003SRSPEC000A.FTZ\n",
      "181.717224074319 43.0515332846937\n",
      "/Users/kciurleo/Downloads/0655800501/pps/P0655800501PNS003SRSPEC000C.FTZ\n",
      "181.995603147709 43.040862316159\n",
      "/Users/kciurleo/Downloads/0655800501/pps/P0655800501PNS003SRSPEC0005.FTZ\n",
      "181.846332004573 42.9919543073314\n",
      "/Users/kciurleo/Downloads/0655800501/pps/P0655800501M1S001SRSPEC000A.FTZ\n",
      "181.717224074319 43.0515332846937\n",
      "/Users/kciurleo/Downloads/0655800501/pps/P0655800501PNS003SRSPEC0004.FTZ\n",
      "181.941881177765 43.1262246513592\n",
      "/Users/kciurleo/Downloads/0655800501/pps/P0655800501R2S005SRSPEC2004.FTZ\n",
      "182.069152832031 43.0526695251465\n",
      "/Users/kciurleo/Downloads/0655800501/pps/P0655800501M2S002SRSPEC0001.FTZ\n",
      "181.763244607216 43.0655408507636\n",
      "/Users/kciurleo/Downloads/0655800501/pps/P0655800501M2S002SRSPEC0003.FTZ\n",
      "182.067249104548 42.979689972923\n",
      "/Users/kciurleo/Downloads/0655800501/pps/P0655800501M2S002SRSPEC0002.FTZ\n",
      "182.069108600903 43.0527087983277\n",
      "/Users/kciurleo/Downloads/0655800501/pps/P0655800501M2S002SRSPEC0004.FTZ\n",
      "181.941881177765 43.1262246513592\n"
     ]
    }
   ],
   "source": [
    "base=f'/Users/kciurleo/Downloads/0{interest[\"observation_id\"].iloc[1]}/pps/'\n",
    "\n",
    "filelist=glob.glob(f'{base}/*SRSPEC*')\n",
    "for i in filelist:\n",
    "    try:\n",
    "        hdr =fits.getheader(i,ext=1)\n",
    "        print(i)\n",
    "        \n",
    "        print(hdr['SRC_RA'], hdr['SRC_DEC'])\n",
    "    except:\n",
    "        continue"
   ]
  },
  {
   "cell_type": "code",
   "execution_count": 384,
   "metadata": {},
   "outputs": [
    {
     "name": "stdout",
     "output_type": "stream",
     "text": [
      "xmmsas_20190401_1820-18.0.0\n"
     ]
    }
   ],
   "source": [
    "correct_file='/Users/kciurleo/Downloads/0655800501/pps/P0655800501PNS003SRSPEC0004.FTZ'\n",
    "sas_vers = fits.getheader(correct_file,ext=0)['SASVERS']\n",
    "print(sas_vers)"
   ]
  },
  {
   "cell_type": "code",
   "execution_count": 389,
   "metadata": {},
   "outputs": [
    {
     "name": "stdout",
     "output_type": "stream",
     "text": [
      "read ARF file /Users/kciurleo/Downloads/0655800501/pps/P0655800501PNS003SRCARF0004.FTZ\n",
      "read RMF file /Users/kciurleo/Downloads/0655800501/pps/epn_e3_ff20_sdY9.rmf\n",
      "read background file /Users/kciurleo/Downloads/0655800501/pps/P0655800501PNS003BGSPEC0004.FTZ\n",
      "dataset 1: 0:20.48 Energy (keV) -> no data\n",
      "dataset 1: no data -> 0.324919:10.28 Energy (keV)\n",
      "Dataset               = 1\n",
      "Method                = levmar\n",
      "Statistic             = chi2datavar\n",
      "Initial fit statistic = 3.36626e+11\n",
      "Final fit statistic   = 71.7944 at function evaluation 168\n",
      "Data points           = 20\n",
      "Degrees of freedom    = 17\n",
      "Probability [Q-value] = 1.05653e-08\n",
      "Reduced statistic     = 4.2232\n",
      "Change in statistic   = 3.36626e+11\n",
      "   abs2.nH        54.4402      +/- 24.9327     \n",
      "   p1.PhoIndex    1.76637      +/- 1.18733     \n",
      "   p1.norm        0.000435668  +/- 0.00117419  \n"
     ]
    },
    {
     "ename": "EstErr",
     "evalue": "reduced statistic larger than 3",
     "output_type": "error",
     "traceback": [
      "\u001b[0;31m---------------------------------------------------------------------------\u001b[0m",
      "\u001b[0;31mEstErr\u001b[0m                                    Traceback (most recent call last)",
      "Cell \u001b[0;32mIn[389], line 38\u001b[0m\n\u001b[1;32m     35\u001b[0m plt\u001b[38;5;241m.\u001b[39msavefig(\u001b[38;5;124mf\u001b[39m\u001b[38;5;124m'\u001b[39m\u001b[38;5;132;01m{\u001b[39;00mbase\u001b[38;5;132;01m}\u001b[39;00m\u001b[38;5;124m/sherpa_fit_resid_xmm.pdf\u001b[39m\u001b[38;5;124m'\u001b[39m)\n\u001b[1;32m     37\u001b[0m \u001b[38;5;66;03m#Get errors\u001b[39;00m\n\u001b[0;32m---> 38\u001b[0m \u001b[43mconf\u001b[49m\u001b[43m(\u001b[49m\u001b[43m)\u001b[49m\n\u001b[1;32m     39\u001b[0m res \u001b[38;5;241m=\u001b[39m get_conf_results()\n\u001b[1;32m     41\u001b[0m \u001b[38;5;66;03m#nH\u001b[39;00m\n",
      "File \u001b[0;32m<string>:1\u001b[0m, in \u001b[0;36mconf\u001b[0;34m(*args)\u001b[0m\n",
      "File \u001b[0;32m/opt/anaconda3/envs/ciao-4.16/lib/python3.11/site-packages/sherpa/ui/utils.py:10976\u001b[0m, in \u001b[0;36mSession.conf\u001b[0;34m(self, *args)\u001b[0m\n\u001b[1;32m  10771\u001b[0m \u001b[38;5;28;01mdef\u001b[39;00m \u001b[38;5;21mconf\u001b[39m(\u001b[38;5;28mself\u001b[39m, \u001b[38;5;241m*\u001b[39margs):\n\u001b[1;32m  10772\u001b[0m \u001b[38;5;250m    \u001b[39m\u001b[38;5;124;03m\"\"\"Estimate parameter confidence intervals using the confidence method.\u001b[39;00m\n\u001b[1;32m  10773\u001b[0m \n\u001b[1;32m  10774\u001b[0m \u001b[38;5;124;03m    The `conf` command computes confidence interval bounds for the\u001b[39;00m\n\u001b[0;32m   (...)\u001b[0m\n\u001b[1;32m  10974\u001b[0m \n\u001b[1;32m  10975\u001b[0m \u001b[38;5;124;03m    \"\"\"\u001b[39;00m\n\u001b[0;32m> 10976\u001b[0m     \u001b[38;5;28mself\u001b[39m\u001b[38;5;241m.\u001b[39m_confidence_results \u001b[38;5;241m=\u001b[39m \u001b[38;5;28;43mself\u001b[39;49m\u001b[38;5;241;43m.\u001b[39;49m\u001b[43m_est_errors\u001b[49m\u001b[43m(\u001b[49m\u001b[43margs\u001b[49m\u001b[43m,\u001b[49m\u001b[43m \u001b[49m\u001b[38;5;124;43m'\u001b[39;49m\u001b[38;5;124;43mconfidence\u001b[39;49m\u001b[38;5;124;43m'\u001b[39;49m\u001b[43m)\u001b[49m\n",
      "File \u001b[0;32m/opt/anaconda3/envs/ciao-4.16/lib/python3.11/site-packages/sherpa/ui/utils.py:10634\u001b[0m, in \u001b[0;36mSession._est_errors\u001b[0;34m(self, args, methodname)\u001b[0m\n\u001b[1;32m  10631\u001b[0m     parlist \u001b[38;5;241m=\u001b[39m \u001b[38;5;28;01mNone\u001b[39;00m\n\u001b[1;32m  10633\u001b[0m ids, f \u001b[38;5;241m=\u001b[39m \u001b[38;5;28mself\u001b[39m\u001b[38;5;241m.\u001b[39m_get_fit(\u001b[38;5;28mid\u001b[39m, otherids, \u001b[38;5;28mself\u001b[39m\u001b[38;5;241m.\u001b[39m_estmethods[methodname])\n\u001b[0;32m> 10634\u001b[0m res \u001b[38;5;241m=\u001b[39m \u001b[43mf\u001b[49m\u001b[38;5;241;43m.\u001b[39;49m\u001b[43mest_errors\u001b[49m\u001b[43m(\u001b[49m\u001b[38;5;28;43mself\u001b[39;49m\u001b[38;5;241;43m.\u001b[39;49m\u001b[43m_methods\u001b[49m\u001b[43m,\u001b[49m\u001b[43m \u001b[49m\u001b[43mparlist\u001b[49m\u001b[43m)\u001b[49m\n\u001b[1;32m  10635\u001b[0m res\u001b[38;5;241m.\u001b[39mdatasets \u001b[38;5;241m=\u001b[39m ids\n\u001b[1;32m  10636\u001b[0m info(res\u001b[38;5;241m.\u001b[39mformat())\n",
      "File \u001b[0;32m/opt/anaconda3/envs/ciao-4.16/lib/python3.11/site-packages/sherpa/fit.py:55\u001b[0m, in \u001b[0;36mevaluates_model.<locals>.run\u001b[0;34m(fit, *args, **kwargs)\u001b[0m\n\u001b[1;32m     53\u001b[0m cache \u001b[38;5;241m=\u001b[39m kwargs\u001b[38;5;241m.\u001b[39mpop(\u001b[38;5;124m'\u001b[39m\u001b[38;5;124mcache\u001b[39m\u001b[38;5;124m'\u001b[39m, \u001b[38;5;28;01mTrue\u001b[39;00m)\n\u001b[1;32m     54\u001b[0m fit\u001b[38;5;241m.\u001b[39mmodel\u001b[38;5;241m.\u001b[39mstartup(cache\u001b[38;5;241m=\u001b[39mcache)\n\u001b[0;32m---> 55\u001b[0m result \u001b[38;5;241m=\u001b[39m \u001b[43mfunc\u001b[49m\u001b[43m(\u001b[49m\u001b[43mfit\u001b[49m\u001b[43m,\u001b[49m\u001b[43m \u001b[49m\u001b[38;5;241;43m*\u001b[39;49m\u001b[43margs\u001b[49m\u001b[43m,\u001b[49m\u001b[43m \u001b[49m\u001b[38;5;241;43m*\u001b[39;49m\u001b[38;5;241;43m*\u001b[39;49m\u001b[43mkwargs\u001b[49m\u001b[43m)\u001b[49m\n\u001b[1;32m     56\u001b[0m fit\u001b[38;5;241m.\u001b[39mmodel\u001b[38;5;241m.\u001b[39mteardown()\n\u001b[1;32m     57\u001b[0m \u001b[38;5;28;01mreturn\u001b[39;00m result\n",
      "File \u001b[0;32m/opt/anaconda3/envs/ciao-4.16/lib/python3.11/site-packages/sherpa/fit.py:1348\u001b[0m, in \u001b[0;36mFit.est_errors\u001b[0;34m(self, methoddict, parlist)\u001b[0m\n\u001b[1;32m   1344\u001b[0m         \u001b[38;5;28;01mraise\u001b[39;00m EstErr(\u001b[38;5;124m'\u001b[39m\u001b[38;5;124mnodegfreedom\u001b[39m\u001b[38;5;124m'\u001b[39m)\n\u001b[1;32m   1346\u001b[0m     \u001b[38;5;28;01mif\u001b[39;00m (\u001b[38;5;28mhasattr\u001b[39m(\u001b[38;5;28mself\u001b[39m\u001b[38;5;241m.\u001b[39mestmethod, \u001b[38;5;124m\"\u001b[39m\u001b[38;5;124mmax_rstat\u001b[39m\u001b[38;5;124m\"\u001b[39m) \u001b[38;5;129;01mand\u001b[39;00m\n\u001b[1;32m   1347\u001b[0m             (\u001b[38;5;28mself\u001b[39m\u001b[38;5;241m.\u001b[39mcalc_stat() \u001b[38;5;241m/\u001b[39m dof) \u001b[38;5;241m>\u001b[39m \u001b[38;5;28mself\u001b[39m\u001b[38;5;241m.\u001b[39mestmethod\u001b[38;5;241m.\u001b[39mmax_rstat):\n\u001b[0;32m-> 1348\u001b[0m         \u001b[38;5;28;01mraise\u001b[39;00m EstErr(\u001b[38;5;124m'\u001b[39m\u001b[38;5;124mrstat>max\u001b[39m\u001b[38;5;124m'\u001b[39m, \u001b[38;5;28mstr\u001b[39m(\u001b[38;5;28mself\u001b[39m\u001b[38;5;241m.\u001b[39mestmethod\u001b[38;5;241m.\u001b[39mmax_rstat))\n\u001b[1;32m   1350\u001b[0m \u001b[38;5;66;03m# If statistic is chi-squared, change fitting method to\u001b[39;00m\n\u001b[1;32m   1351\u001b[0m \u001b[38;5;66;03m# Levenberg-Marquardt; else, switch to NelderMead.  (We\u001b[39;00m\n\u001b[1;32m   1352\u001b[0m \u001b[38;5;66;03m# will do fitting during projection, and therefore don't\u001b[39;00m\n\u001b[0;32m   (...)\u001b[0m\n\u001b[1;32m   1355\u001b[0m \u001b[38;5;66;03m# If current method is not LM or NM, warn it is not a good\u001b[39;00m\n\u001b[1;32m   1356\u001b[0m \u001b[38;5;66;03m# method for estimating parameter limits.\u001b[39;00m\n\u001b[1;32m   1357\u001b[0m \u001b[38;5;28;01mif\u001b[39;00m (\u001b[38;5;28mtype\u001b[39m(\u001b[38;5;28mself\u001b[39m\u001b[38;5;241m.\u001b[39mestmethod) \u001b[38;5;129;01mis\u001b[39;00m \u001b[38;5;129;01mnot\u001b[39;00m Covariance \u001b[38;5;129;01mand\u001b[39;00m\n\u001b[1;32m   1358\u001b[0m         \u001b[38;5;28mtype\u001b[39m(\u001b[38;5;28mself\u001b[39m\u001b[38;5;241m.\u001b[39mmethod) \u001b[38;5;129;01mis\u001b[39;00m \u001b[38;5;129;01mnot\u001b[39;00m NelderMead \u001b[38;5;129;01mand\u001b[39;00m\n\u001b[1;32m   1359\u001b[0m         \u001b[38;5;28mtype\u001b[39m(\u001b[38;5;28mself\u001b[39m\u001b[38;5;241m.\u001b[39mmethod) \u001b[38;5;129;01mis\u001b[39;00m \u001b[38;5;129;01mnot\u001b[39;00m LevMar):\n",
      "\u001b[0;31mEstErr\u001b[0m: reduced statistic larger than 3"
     ]
    },
    {
     "data": {
      "image/png": "[encoded data removed]",
      "text/plain": [
       "<Figure size 640x480 with 1 Axes>"
      ]
     },
     "metadata": {},
     "output_type": "display_data"
    },
    {
     "data": {
      "image/png": "[encoded data removed]",
      "text/plain": [
       "<Figure size 640x480 with 1 Axes>"
      ]
     },
     "metadata": {},
     "output_type": "display_data"
    }
   ],
   "source": [
    "mdl = f'(xsphabs.abs1*xszphabs.abs2 * xszpowerlw.p1)'\n",
    "interest=interest.iloc[0]\n",
    "nH=interest['galactic nH']\n",
    "z=interest['Z']\n",
    "\n",
    "clean()\n",
    "\n",
    "#stats are chi squared with a 3 sigma error and units of eV\n",
    "set_stat('chi2datavar')\n",
    "set_conf_opt(\"sigma\", 3)\n",
    "\n",
    "#load in file, ignore outer limits, subtract the background, set model\n",
    "load_pha(correct_file)\n",
    "ignore()\n",
    "notice(0.35,10)\n",
    "subtract()\n",
    "set_model(1,mdl)\n",
    "\n",
    "#freeze galactic nH, set redshifts\n",
    "abs1.nH = nH\n",
    "freeze(abs1.nH)\n",
    "p1.redshift = z\n",
    "abs2.redshift = z\n",
    "fit()\n",
    "\n",
    "#Plotting\n",
    "plt.figure()\n",
    "plot_fit(xlog=True, ylog=True) \n",
    "plot_model_component(p1, overplot=True) \n",
    "plt.savefig(f'{base}/sherpa_fit_xmm.pdf')\n",
    "\n",
    "#residuals\n",
    "plt.figure()\n",
    "plot_resid(xlog=True, ylog=True)\n",
    "plt.savefig(f'{base}/sherpa_fit_resid_xmm.pdf')\n",
    "\n",
    "#Get errors\n",
    "conf()\n",
    "res = get_conf_results()\n",
    "\n",
    "#nH\n",
    "int_nH = res.parvals[res.parnames.index('abs2.nH')]\n",
    "int_nH_error_up = res.parmaxes[res.parnames.index('abs2.nH')]\n",
    "int_nH_error_down = res.parmins[res.parnames.index('abs2.nH')]\n",
    "\n",
    "#gamma\n",
    "gamma = res.parvals[res.parnames.index('p1.PhoIndex')]\n",
    "gamma_error_up = res.parmaxes[res.parnames.index('p1.PhoIndex')]\n",
    "gamma_error_down = res.parmins[res.parnames.index('p1.PhoIndex')]\n",
    "\n",
    "#get energy in keV\n",
    "set_analysis('energy')\n",
    "print('eflux')\n",
    "\n",
    "#based on an example, set the errors as the upper errors\n",
    "testy=sample_energy_flux(2, 10, scales=res.parmaxes)\n",
    "\n",
    "#include the model to get unabsorbed flux; if we want absorbed, let it be none\n",
    "funabs=calc_energy_flux(0.3, 7.5, model=p1)\n",
    "f210=calc_energy_flux(2, 10, model=p1)\n",
    "\n",
    "#erosita bands\n",
    "fsoft=calc_energy_flux(0.2, 0.6, model=p1)\n",
    "fmed=calc_energy_flux(0.6, 2.3, model=p1)\n",
    "fhard=calc_energy_flux(2.3, 5, model=p1)\n",
    "fsum=calc_energy_flux(0.2, 5, model=p1)"
   ]
  },
  {
   "cell_type": "code",
   "execution_count": 394,
   "metadata": {},
   "outputs": [
    {
     "name": "stdout",
     "output_type": "stream",
     "text": [
      "            RA       Dec\n",
      "44  206.901667  17.56794\n",
      "45  206.901667  17.56794\n",
      "46  206.901667  17.56794\n",
      "47  206.901667  17.56794\n",
      "48  206.901667  17.56794\n",
      "49  206.901667  17.56794\n",
      "50  206.901667  17.56794\n",
      "51  206.901667  17.56794\n",
      "52  206.901667  17.56794\n",
      "\n",
      "/Users/kciurleo/Downloads/0782940101PPS/pps\n"
     ]
    }
   ],
   "source": [
    "#third guy\n",
    "interest=observed_all.loc[observed_all['CXO name']=='2CXO J134736.4+173404'].drop_duplicates(subset=['observation_id'])\n",
    "print(interest[['RA', 'Dec']])\n",
    "print()\n",
    "print(os.getcwd())"
   ]
  },
  {
   "cell_type": "code",
   "execution_count": 397,
   "metadata": {},
   "outputs": [
    {
     "name": "stdout",
     "output_type": "stream",
     "text": [
      "downloading 671150701\n",
      "downloading 651140201\n",
      "downloading 651140401\n",
      "downloading 671150601\n",
      "downloading 671150501\n",
      "downloading 651140501\n",
      "downloading 651140301\n",
      "downloading 144570101\n",
      "downloading 671150801\n"
     ]
    }
   ],
   "source": [
    "os.chdir('/Users/kciurleo/Downloads/')\n",
    "for obsid in interest['observation_id']:\n",
    "    print(f'downloading {obsid}')\n",
    "    try:\n",
    "        XMMNewton.download_data(f'0{obsid}', level='PPS', extension='FTZ')\n",
    "    except:\n",
    "        continue"
   ]
  },
  {
   "cell_type": "code",
   "execution_count": 408,
   "metadata": {},
   "outputs": [
    {
     "name": "stdout",
     "output_type": "stream",
     "text": [
      "            RA       Dec\n",
      "53  210.219033 -1.753092\n",
      "54  210.219033 -1.753092\n",
      "55  210.219033 -1.753092\n",
      "53    200430901\n",
      "54    505930101\n",
      "55    505930401\n",
      "Name: observation_id, dtype: int64\n"
     ]
    }
   ],
   "source": [
    "#fourth guy\n",
    "interest=observed_all.loc[observed_all['CXO name']=='2CXO J140052.5-014511'].drop_duplicates(subset=['observation_id'])\n",
    "print(interest[['RA', 'Dec']])\n",
    "print(interest['observation_id'])"
   ]
  },
  {
   "cell_type": "code",
   "execution_count": 400,
   "metadata": {},
   "outputs": [
    {
     "name": "stdout",
     "output_type": "stream",
     "text": [
      "downloading 200430901\n",
      "Downloading URL https://nxsa.esac.esa.int/nxsa-sl/servlet/data-action-aio?obsno=0200430901&level=PPS&extension=FTZ to 0200430901.tar ... [Done]\n",
      "downloading 505930101\n",
      "Downloading URL https://nxsa.esac.esa.int/nxsa-sl/servlet/data-action-aio?obsno=0505930101&level=PPS&extension=FTZ to 0505930101.tar ... [Done]\n",
      "downloading 505930401\n",
      "Downloading URL https://nxsa.esac.esa.int/nxsa-sl/servlet/data-action-aio?obsno=0505930401&level=PPS&extension=FTZ to 0505930401.tar ... [Done]\n"
     ]
    }
   ],
   "source": [
    "for obsid in interest['observation_id']:\n",
    "    print(f'downloading {obsid}')\n",
    "    try:\n",
    "        XMMNewton.download_data(f'0{obsid}', level='PPS', extension='FTZ')\n",
    "    except:\n",
    "        print('failed')\n",
    "        continue"
   ]
  },
  {
   "cell_type": "code",
   "execution_count": 403,
   "metadata": {},
   "outputs": [
    {
     "name": "stdout",
     "output_type": "stream",
     "text": [
      "/Users/kciurleo/Downloads/0505930101/pps/P0505930101PNS003SRSPEC0008.FTZ\n",
      "210.219921253281 -1.81237057707908\n",
      "/Users/kciurleo/Downloads/0505930101/pps/P0505930101PNS003SRSPEC0009.FTZ\n",
      "210.133749510775 -1.85219854249522\n",
      "/Users/kciurleo/Downloads/0505930101/pps/P0505930101PNS003SRSPEC0023.FTZ\n",
      "210.07308483121 -1.81679938577355\n",
      "/Users/kciurleo/Downloads/0505930101/pps/P0505930101R1S004SRSPEC2003.FTZ\n",
      "210.218719482422 -1.75306451320648\n",
      "/Users/kciurleo/Downloads/0505930101/pps/P0505930101R2S005SRSPEC1003.FTZ\n",
      "210.218719482422 -1.75306451320648\n",
      "/Users/kciurleo/Downloads/0505930101/pps/P0505930101M2S002SRSPEC0001.FTZ\n",
      "210.218715182555 -1.75305898769268\n",
      "/Users/kciurleo/Downloads/0505930101/pps/P0505930101M1S001SRSPEC0002.FTZ\n",
      "210.137029621667 -1.72792106847984\n",
      "/Users/kciurleo/Downloads/0505930101/pps/P0505930101PNS003SRSPEC0001.FTZ\n",
      "210.218715182555 -1.75305898769268\n",
      "/Users/kciurleo/Downloads/0505930101/pps/P0505930101PNS003SRSPEC0015.FTZ\n",
      "210.34431509755 -1.75303644849202\n",
      "/Users/kciurleo/Downloads/0505930101/pps/P0505930101PNS003SRSPEC001C.FTZ\n",
      "210.451184067872 -1.75457318755243\n",
      "/Users/kciurleo/Downloads/0505930101/pps/P0505930101PNS003SRSPEC001B.FTZ\n",
      "210.219457633736 -1.9273325949788\n",
      "/Users/kciurleo/Downloads/0505930101/pps/P0505930101PNS003SRSPEC000F.FTZ\n",
      "210.199859042888 -1.75950484653177\n",
      "/Users/kciurleo/Downloads/0505930101/pps/P0505930101M1S001SRSPEC000E.FTZ\n",
      "210.054713652691 -1.61731015071589\n",
      "/Users/kciurleo/Downloads/0505930101/pps/P0505930101M1S001SRSPEC0001.FTZ\n",
      "210.218715182555 -1.75305898769268\n",
      "/Users/kciurleo/Downloads/0505930101/pps/P0505930101PNS003SRSPEC0016.FTZ\n",
      "210.105774251995 -1.57278311650882\n",
      "/Users/kciurleo/Downloads/0505930101/pps/P0505930101PNS003SRSPEC0002.FTZ\n",
      "210.137029621667 -1.72792106847984\n",
      "/Users/kciurleo/Downloads/0505930101/pps/P0505930101PNS003SRSPEC000D.FTZ\n",
      "210.083994293729 -1.72471818941299\n",
      "/Users/kciurleo/Downloads/0505930101/pps/P0505930101R2S005SRSPEC2003.FTZ\n",
      "210.218719482422 -1.75306451320648\n",
      "/Users/kciurleo/Downloads/0505930101/pps/P0505930101PNS003SRSPEC001A.FTZ\n",
      "210.308290731482 -1.71842640727349\n",
      "/Users/kciurleo/Downloads/0505930101/pps/P0505930101PNS003SRSPEC0003.FTZ\n",
      "210.168611534346 -1.92161457484291\n",
      "/Users/kciurleo/Downloads/0505930101/pps/P0505930101M1S001SRSPEC000B.FTZ\n",
      "210.006637356209 -1.82397184247572\n",
      "/Users/kciurleo/Downloads/0505930101/pps/P0505930101PNS003SRSPEC000A.FTZ\n",
      "210.189385937637 -1.79635483811379\n",
      "/Users/kciurleo/Downloads/0505930101/pps/P0505930101PNS003SRSPEC0013.FTZ\n",
      "210.165285715684 -1.73761250155231\n",
      "/Users/kciurleo/Downloads/0505930101/pps/P0505930101PNS003SRSPEC0007.FTZ\n",
      "210.214902534864 -1.79779575496524\n",
      "/Users/kciurleo/Downloads/0505930101/pps/P0505930101PNS003SRSPEC0012.FTZ\n",
      "210.190022432925 -1.78264293477527\n",
      "/Users/kciurleo/Downloads/0505930101/pps/P0505930101PNS003SRSPEC001D.FTZ\n",
      "210.456153629528 -1.6712013385545\n",
      "/Users/kciurleo/Downloads/0505930101/pps/P0505930101M1S001SRSPEC0007.FTZ\n",
      "210.214902534864 -1.79779575496524\n",
      "/Users/kciurleo/Downloads/0505930101/pps/P0505930101PNS003SRSPEC0004.FTZ\n",
      "210.194052041133 -1.77331755885366\n",
      "/Users/kciurleo/Downloads/0505930101/pps/P0505930101R1S004SRSPEC1003.FTZ\n",
      "210.218719482422 -1.75306451320648\n",
      "/Users/kciurleo/Downloads/0505930101/pps/P0505930101PNS003SRSPEC0005.FTZ\n",
      "210.28861063084 -1.79712991662531\n",
      "/Users/kciurleo/Downloads/0505930101/pps/P0505930101PNS003SRSPEC000C.FTZ\n",
      "210.412639646797 -1.81521437231881\n",
      "/Users/kciurleo/Downloads/0505930101/pps/P0505930101M1S001SRSPEC0006.FTZ\n",
      "210.122968567502 -1.67229203297227\n"
     ]
    }
   ],
   "source": [
    "base=f'/Users/kciurleo/Downloads/0{interest[\"observation_id\"].iloc[1]}/pps/'\n",
    "\n",
    "filelist=glob.glob(f'{base}/*SRSPEC*')\n",
    "for i in filelist:\n",
    "    try:\n",
    "        hdr =fits.getheader(i,ext=1)\n",
    "        print(i)\n",
    "        \n",
    "        print(hdr['SRC_RA'], hdr['SRC_DEC'])\n",
    "    except:\n",
    "        continue"
   ]
  },
  {
   "cell_type": "code",
   "execution_count": 404,
   "metadata": {},
   "outputs": [
    {
     "name": "stdout",
     "output_type": "stream",
     "text": [
      "xmmsas_20190401_1820-18.0.0\n"
     ]
    }
   ],
   "source": [
    "correct_file='/Users/kciurleo/Downloads/0505930101/pps/P0505930101PNS003SRSPEC0001.FTZ'\n",
    "sas_vers = fits.getheader(correct_file,ext=0)['SASVERS']\n",
    "print(sas_vers)"
   ]
  },
  {
   "cell_type": "code",
   "execution_count": 409,
   "metadata": {},
   "outputs": [
    {
     "name": "stdout",
     "output_type": "stream",
     "text": [
      "read ARF file /Users/kciurleo/Downloads/0505930101/pps/P0505930101PNS003SRCARF0001.FTZ\n",
      "read RMF file /Users/kciurleo/Downloads/0505930101/pps/epn_e2_ff20_sdY9.rmf\n",
      "read background file /Users/kciurleo/Downloads/0505930101/pps/P0505930101PNS003BGSPEC0001.FTZ\n",
      "dataset 1: 0:20.48 Energy (keV) -> no data\n",
      "dataset 1: no data -> 0.324919:10.175 Energy (keV)\n",
      "Dataset               = 1\n",
      "Method                = levmar\n",
      "Statistic             = chi2datavar\n",
      "Initial fit statistic = 1.17487e+12\n",
      "Final fit statistic   = 88.5146 at function evaluation 311\n",
      "Data points           = 99\n",
      "Degrees of freedom    = 96\n",
      "Probability [Q-value] = 0.693737\n",
      "Reduced statistic     = 0.922027\n",
      "Change in statistic   = 1.17487e+12\n",
      "   abs2.nH        0.0015881    +/- 0.0286771   \n",
      "   p1.PhoIndex    2.55627      +/- 0.0497688   \n",
      "   p1.norm        9.26488e-05  +/- 2.36034e-06 \n",
      "abs2.nH lower bound:\t-----\n",
      "abs2.nH upper bound:\t0.0231802\n",
      "p1.PhoIndex lower bound:\t-0.12517\n",
      "p1.PhoIndex upper bound:\t0.138706\n",
      "p1.norm lower bound:\t-4.0688e-06\n",
      "p1.norm upper bound:\t9.81423e-06\n",
      "Dataset               = 1\n",
      "Confidence Method     = confidence\n",
      "Iterative Fit Method  = None\n",
      "Fitting Method        = levmar\n",
      "Statistic             = chi2datavar\n",
      "confidence 3-sigma (99.73%) bounds:\n",
      "   Param            Best-Fit  Lower Bound  Upper Bound\n",
      "   -----            --------  -----------  -----------\n",
      "   abs2.nH         0.0015881        -----    0.0231802\n",
      "   p1.PhoIndex       2.55627     -0.12517     0.138706\n",
      "   p1.norm       9.26488e-05  -4.0688e-06  9.81423e-06\n",
      "dataset 1: 0.324919:10.175 Energy (keV)\n",
      "eflux\n"
     ]
    },
    {
     "data": {
      "image/png": "[encoded data removed]",
      "text/plain": [
       "<Figure size 640x480 with 1 Axes>"
      ]
     },
     "metadata": {},
     "output_type": "display_data"
    },
    {
     "data": {
      "image/png": "[encoded data removed]",
      "text/plain": [
       "<Figure size 640x480 with 1 Axes>"
      ]
     },
     "metadata": {},
     "output_type": "display_data"
    }
   ],
   "source": [
    "mdl = f'(xsphabs.abs1*xszphabs.abs2 * xszpowerlw.p1)'\n",
    "\n",
    "nH=interest['galactic nH'].iloc[0]\n",
    "z=interest['Z'].iloc[0]\n",
    "\n",
    "clean()\n",
    "\n",
    "#stats are chi squared with a 3 sigma error and units of eV\n",
    "set_stat('chi2datavar')\n",
    "set_conf_opt(\"sigma\", 3)\n",
    "\n",
    "#load in file, ignore outer limits, subtract the background, set model\n",
    "load_pha(correct_file)\n",
    "ignore()\n",
    "notice(0.35,10)\n",
    "subtract()\n",
    "set_model(1,mdl)\n",
    "\n",
    "#freeze galactic nH, set redshifts\n",
    "abs1.nH = nH\n",
    "freeze(abs1.nH)\n",
    "p1.redshift = z\n",
    "abs2.redshift = z\n",
    "fit()\n",
    "\n",
    "#Plotting\n",
    "plt.figure()\n",
    "plot_fit(xlog=True, ylog=True) \n",
    "plot_model_component(p1, overplot=True) \n",
    "plt.savefig(f'{base}/sherpa_fit_xmm.pdf')\n",
    "\n",
    "#residuals\n",
    "plt.figure()\n",
    "plot_resid(xlog=True, ylog=True)\n",
    "plt.savefig(f'{base}/sherpa_fit_resid_xmm.pdf')\n",
    "\n",
    "#Get errors\n",
    "conf()\n",
    "res = get_conf_results()\n",
    "\n",
    "#nH\n",
    "int_nH = res.parvals[res.parnames.index('abs2.nH')]\n",
    "int_nH_error_up = res.parmaxes[res.parnames.index('abs2.nH')]\n",
    "int_nH_error_down = res.parmins[res.parnames.index('abs2.nH')]\n",
    "\n",
    "#gamma\n",
    "gamma = res.parvals[res.parnames.index('p1.PhoIndex')]\n",
    "gamma_error_up = res.parmaxes[res.parnames.index('p1.PhoIndex')]\n",
    "gamma_error_down = res.parmins[res.parnames.index('p1.PhoIndex')]\n",
    "\n",
    "#get energy in keV\n",
    "set_analysis('energy')\n",
    "print('eflux')\n",
    "\n",
    "#based on an example, set the errors as the upper errors\n",
    "testy=sample_energy_flux(2, 10, scales=res.parmaxes)\n",
    "\n",
    "#include the model to get unabsorbed flux; if we want absorbed, let it be none\n",
    "funabs=calc_energy_flux(0.3, 7.5, model=p1)\n",
    "f210=calc_energy_flux(2, 10, model=p1)\n",
    "\n",
    "#erosita bands\n",
    "fsoft=calc_energy_flux(0.2, 0.6, model=p1)\n",
    "fmed=calc_energy_flux(0.6, 2.3, model=p1)\n",
    "fhard=calc_energy_flux(2.3, 5, model=p1)\n",
    "fsum=calc_energy_flux(0.2, 5, model=p1)"
   ]
  },
  {
   "cell_type": "code",
   "execution_count": 426,
   "metadata": {},
   "outputs": [
    {
     "data": {
      "text/html": [
       "<div>\n",
       "<style scoped>\n",
       "    .dataframe tbody tr th:only-of-type {\n",
       "        vertical-align: middle;\n",
       "    }\n",
       "\n",
       "    .dataframe tbody tr th {\n",
       "        vertical-align: top;\n",
       "    }\n",
       "\n",
       "    .dataframe thead th {\n",
       "        text-align: right;\n",
       "    }\n",
       "</style>\n",
       "<table border=\"1\" class=\"dataframe\">\n",
       "  <thead>\n",
       "    <tr style=\"text-align: right;\">\n",
       "      <th></th>\n",
       "      <th># ObsID</th>\n",
       "      <th>unabsorbed</th>\n",
       "      <th>model</th>\n",
       "      <th>Cstat</th>\n",
       "      <th>nH</th>\n",
       "      <th>nH error plus</th>\n",
       "      <th>nH error minus</th>\n",
       "      <th>gamma</th>\n",
       "      <th>gamma error plus</th>\n",
       "      <th>gamma error minus</th>\n",
       "      <th>...</th>\n",
       "      <th>Z</th>\n",
       "      <th>galactic nH</th>\n",
       "      <th>counts</th>\n",
       "      <th>luminosity</th>\n",
       "      <th>luminosity error</th>\n",
       "      <th>Flux_OIII_5006</th>\n",
       "      <th>Flux_OIII_5006_err</th>\n",
       "      <th>Fx/F[OIII]</th>\n",
       "      <th>Fx/F[OIII].1</th>\n",
       "      <th>compton thick</th>\n",
       "    </tr>\n",
       "  </thead>\n",
       "  <tbody>\n",
       "    <tr>\n",
       "      <th>701</th>\n",
       "      <td>4222</td>\n",
       "      <td>False</td>\n",
       "      <td>res</td>\n",
       "      <td>614.7384725253677</td>\n",
       "      <td>1.1946943249848343</td>\n",
       "      <td>0.5097766064564085</td>\n",
       "      <td>-0.5097766064564085</td>\n",
       "      <td>1.9</td>\n",
       "      <td>NaN</td>\n",
       "      <td>NaN</td>\n",
       "      <td>...</td>\n",
       "      <td>0.130187</td>\n",
       "      <td>0.0108</td>\n",
       "      <td>84</td>\n",
       "      <td>1.2158074508954104e+43</td>\n",
       "      <td>2.1342420699844385e+42</td>\n",
       "      <td>9.884091</td>\n",
       "      <td>15.62492</td>\n",
       "      <td>2712.89707659167</td>\n",
       "      <td>4314.94869789026</td>\n",
       "      <td>True</td>\n",
       "    </tr>\n",
       "  </tbody>\n",
       "</table>\n",
       "<p>1 rows × 44 columns</p>\n",
       "</div>"
      ],
      "text/plain": [
       "    # ObsID  unabsorbed model              Cstat                  nH  \\\n",
       "701    4222       False   res  614.7384725253677  1.1946943249848343   \n",
       "\n",
       "          nH error plus       nH error minus gamma gamma error plus  \\\n",
       "701  0.5097766064564085  -0.5097766064564085   1.9              NaN   \n",
       "\n",
       "    gamma error minus  ...         Z galactic nH counts  \\\n",
       "701               NaN  ...  0.130187      0.0108     84   \n",
       "\n",
       "                 luminosity        luminosity error Flux_OIII_5006  \\\n",
       "701  1.2158074508954104e+43  2.1342420699844385e+42       9.884091   \n",
       "\n",
       "    Flux_OIII_5006_err        Fx/F[OIII]      Fx/F[OIII].1 compton thick  \n",
       "701           15.62492  2712.89707659167  4314.94869789026          True  \n",
       "\n",
       "[1 rows x 44 columns]"
      ]
     },
     "execution_count": 426,
     "metadata": {},
     "output_type": "execute_result"
    }
   ],
   "source": [
    "final_full.loc[final_full[\"CXO name\"]==\"2CXO J142916.8+335641\"]"
   ]
  },
  {
   "cell_type": "code",
   "execution_count": 425,
   "metadata": {},
   "outputs": [
    {
     "data": {
      "text/html": [
       "<div>\n",
       "<style scoped>\n",
       "    .dataframe tbody tr th:only-of-type {\n",
       "        vertical-align: middle;\n",
       "    }\n",
       "\n",
       "    .dataframe tbody tr th {\n",
       "        vertical-align: top;\n",
       "    }\n",
       "\n",
       "    .dataframe thead th {\n",
       "        text-align: right;\n",
       "    }\n",
       "</style>\n",
       "<table border=\"1\" class=\"dataframe\">\n",
       "  <thead>\n",
       "    <tr style=\"text-align: right;\">\n",
       "      <th></th>\n",
       "      <th># ObsID</th>\n",
       "      <th>unabsorbed</th>\n",
       "      <th>model</th>\n",
       "      <th>Cstat</th>\n",
       "      <th>nH</th>\n",
       "      <th>nH error plus</th>\n",
       "      <th>nH error minus</th>\n",
       "      <th>gamma</th>\n",
       "      <th>gamma error plus</th>\n",
       "      <th>gamma error minus</th>\n",
       "      <th>...</th>\n",
       "      <th>Z</th>\n",
       "      <th>galactic nH</th>\n",
       "      <th>counts</th>\n",
       "      <th>luminosity</th>\n",
       "      <th>luminosity error</th>\n",
       "      <th>Flux_OIII_5006</th>\n",
       "      <th>Flux_OIII_5006_err</th>\n",
       "      <th>Fx/F[OIII]</th>\n",
       "      <th>Fx/F[OIII].1</th>\n",
       "      <th>compton thick</th>\n",
       "    </tr>\n",
       "  </thead>\n",
       "  <tbody>\n",
       "  </tbody>\n",
       "</table>\n",
       "<p>0 rows × 44 columns</p>\n",
       "</div>"
      ],
      "text/plain": [
       "Empty DataFrame\n",
       "Columns: [# ObsID, unabsorbed, model, Cstat, nH, nH error plus, nH error minus, gamma, gamma error plus, gamma error minus, 0.3-7.5 flux, xflux error plus, xflux_error_minus, 2-10 flux, flux210 error plus, flux210 error minus, Soft flux, fluxsoft error plus, fluxsoft error minus, Medium flux, fluxmed error plus, fluxmed error minus, Hard flux, fluxhard error plus, fluxhard error minus, Sum flux, fluxsum error plus, fluxsum error minus, Test Statistic, Ce, Cv, CXO name, RA, Dec, Z, galactic nH, counts, luminosity, luminosity error, Flux_OIII_5006, Flux_OIII_5006_err, Fx/F[OIII], Fx/F[OIII].1, compton thick]\n",
       "Index: []\n",
       "\n",
       "[0 rows x 44 columns]"
      ]
     },
     "execution_count": 425,
     "metadata": {},
     "output_type": "execute_result"
    }
   ],
   "source": [
    "final_min_abs.loc[final_min_abs[\"CXO name\"]==\"2CXO J142916.8+335641\"]"
   ]
  },
  {
   "cell_type": "code",
   "execution_count": 455,
   "metadata": {},
   "outputs": [
    {
     "data": {
      "text/html": [
       "<div>\n",
       "<style scoped>\n",
       "    .dataframe tbody tr th:only-of-type {\n",
       "        vertical-align: middle;\n",
       "    }\n",
       "\n",
       "    .dataframe tbody tr th {\n",
       "        vertical-align: top;\n",
       "    }\n",
       "\n",
       "    .dataframe thead th {\n",
       "        text-align: right;\n",
       "    }\n",
       "</style>\n",
       "<table border=\"1\" class=\"dataframe\">\n",
       "  <thead>\n",
       "    <tr style=\"text-align: right;\">\n",
       "      <th></th>\n",
       "      <th>MJD</th>\n",
       "      <th>FIBERID</th>\n",
       "      <th>PLATE</th>\n",
       "    </tr>\n",
       "  </thead>\n",
       "  <tbody>\n",
       "    <tr>\n",
       "      <th>225177</th>\n",
       "      <td>52443.0</td>\n",
       "      <td>429.0</td>\n",
       "      <td>915.0</td>\n",
       "    </tr>\n",
       "  </tbody>\n",
       "</table>\n",
       "</div>"
      ],
      "text/plain": [
       "            MJD  FIBERID  PLATE\n",
       "225177  52443.0    429.0  915.0"
      ]
     },
     "execution_count": 455,
     "metadata": {},
     "output_type": "execute_result"
    }
   ],
   "source": [
    "csc21.loc[csc21[\"CSC21P_name\"]==\"2CXO J140052.5-014511\"][['MJD','FIBERID','PLATE']]"
   ]
  },
  {
   "cell_type": "code",
   "execution_count": 452,
   "metadata": {},
   "outputs": [
    {
     "data": {
      "text/plain": [
       "37"
      ]
     },
     "execution_count": 452,
     "metadata": {},
     "output_type": "execute_result"
    }
   ],
   "source": [
    "len(final_full.loc[(pd.to_numeric(final_full['nH'], errors='coerce') > .05) & (pd.to_numeric(final_full['nH'], errors='coerce') <= .2)]['CXO name'].unique())"
   ]
  },
  {
   "cell_type": "code",
   "execution_count": 446,
   "metadata": {},
   "outputs": [
    {
     "data": {
      "text/plain": [
       "105"
      ]
     },
     "execution_count": 446,
     "metadata": {},
     "output_type": "execute_result"
    }
   ],
   "source": [
    "len(final_full.loc[final_full['unabsorbed']==True]['CXO name'].unique())"
   ]
  },
  {
   "cell_type": "code",
   "execution_count": 454,
   "metadata": {},
   "outputs": [
    {
     "data": {
      "text/plain": [
       "616    2CXO J140052.5-014511\n",
       "Name: CXO name, dtype: object"
      ]
     },
     "execution_count": 454,
     "metadata": {},
     "output_type": "execute_result"
    }
   ],
   "source": [
    "final_full.loc[final_full['# ObsID']=='9557']['CXO name']"
   ]
  },
  {
   "cell_type": "code",
   "execution_count": 448,
   "metadata": {},
   "outputs": [
    {
     "data": {
      "text/plain": [
       "78"
      ]
     },
     "execution_count": 448,
     "metadata": {},
     "output_type": "execute_result"
    }
   ],
   "source": [
    "len(final_min_abs['CXO name'].unique())"
   ]
  },
  {
   "cell_type": "code",
   "execution_count": null,
   "metadata": {},
   "outputs": [],
   "source": []
  }
 ],
 "metadata": {
  "kernelspec": {
   "display_name": "ciao-4.16",
   "language": "python",
   "name": "python3"
  },
  "language_info": {
   "codemirror_mode": {
    "name": "ipython",
    "version": 3
   },
   "file_extension": ".py",
   "mimetype": "text/x-python",
   "name": "python",
   "nbconvert_exporter": "python",
   "pygments_lexer": "ipython3",
   "version": "3.11.9"
  }
 },
 "nbformat": 4,
 "nbformat_minor": 2
}
