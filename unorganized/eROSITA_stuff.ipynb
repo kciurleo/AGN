{
 "cells": [
  {
   "cell_type": "code",
   "execution_count": 5,
   "metadata": {},
   "outputs": [],
   "source": [
    "import numpy as np\n",
    "import pandas as pd\n",
    "from astropy.io import votable"
   ]
  },
  {
   "cell_type": "code",
   "execution_count": 2,
   "metadata": {},
   "outputs": [
    {
     "name": "stderr",
     "output_type": "stream",
     "text": [
      "/var/folders/6x/hz5y30457mqg1y9dl2fg7r5m00034d/T/ipykernel_34735/1910351754.py:1: DtypeWarning: Columns (57,61,62) have mixed types. Specify dtype option on import or set low_memory=False.\n",
      "  csc21=pd.read_csv(\"/Users/kciurleo/Documents/kciurleo/AGN/csvs/CSC2.1p_OIR_SDSSspecmatch.csv\")\n"
     ]
    }
   ],
   "source": [
    "csc21=pd.read_csv(\"/Users/kciurleo/Documents/kciurleo/AGN/csvs/CSC2.1p_OIR_SDSSspecmatch.csv\")"
   ]
  },
  {
   "cell_type": "code",
   "execution_count": 13,
   "metadata": {},
   "outputs": [],
   "source": [
    "erosita = votable.parse_single_table('/Users/kciurleo/Documents/kciurleo/AGN/csvs/upper_limits.vot').to_table().to_pandas()"
   ]
  },
  {
   "cell_type": "code",
   "execution_count": 16,
   "metadata": {},
   "outputs": [],
   "source": [
    "seyferts = pd.read_csv(\"/Users/kciurleo/Documents/kciurleo/AGN/csvs/seyferts.csv\")"
   ]
  },
  {
   "cell_type": "code",
   "execution_count": 17,
   "metadata": {},
   "outputs": [
    {
     "data": {
      "text/plain": [
       "Index(['CSC21P_name', 'ra_x', 'dec_x', 'likelihood_class', 'extent_flag',\n",
       "       'err_ellipse_r0', 'err_ellipse_r1', 'err_ellipse_ang', 'significance',\n",
       "       'flux_aper_b',\n",
       "       ...\n",
       "       'sc_ep_8_fmin_err', 'sc_ep_8_fmax', 'sc_ep_8_fmax_err', 'mjd_first',\n",
       "       'mjd_last', 'n_detections', 'confused', 'high_background', 'XMM_ra',\n",
       "       'XMM_dec'],\n",
       "      dtype='object', length=437)"
      ]
     },
     "execution_count": 17,
     "metadata": {},
     "output_type": "execute_result"
    }
   ],
   "source": [
    "seyferts.columns"
   ]
  },
  {
   "cell_type": "code",
   "execution_count": 20,
   "metadata": {},
   "outputs": [],
   "source": [
    "full_data=pd.merge(seyferts, erosita, on=['PLATE','FIBERID','MJD'], how='left')"
   ]
  },
  {
   "cell_type": "code",
   "execution_count": 24,
   "metadata": {},
   "outputs": [
    {
     "data": {
      "text/plain": [
       "0       0.000000e+00\n",
       "1       2.728490e-15\n",
       "2       2.000219e-14\n",
       "3       1.874907e-15\n",
       "4       2.120031e-15\n",
       "            ...     \n",
       "2228    1.666375e-15\n",
       "2229             NaN\n",
       "2230    1.747786e-14\n",
       "2231    7.243004e-15\n",
       "2232    4.307675e-15\n",
       "Name: flux_aper_m, Length: 2233, dtype: float64"
      ]
     },
     "execution_count": 24,
     "metadata": {},
     "output_type": "execute_result"
    }
   ],
   "source": [
    "full_data['flux_aper_m']"
   ]
  },
  {
   "cell_type": "code",
   "execution_count": 25,
   "metadata": {},
   "outputs": [
    {
     "data": {
      "text/plain": [
       "''"
      ]
     },
     "execution_count": 25,
     "metadata": {},
     "output_type": "execute_result"
    }
   ],
   "source": [
    "'''\n",
    "Chandra fluxes:\n",
    "\n",
    "flux_aper_b D 0.5-7keV ACIS flux, bkg-subtracted, aperture-corrected\n",
    "flux_aper_h D 2-7 keV ACIS flux, bkg-subtracted, aperture-corrected\n",
    "flux_aper_m D 1.2-2 keV ACIS flux, bkg-subtracted, aperture-corrected\n",
    "flux_aper_s D 0.5-1.2 keV ACIS flux, bkg-subtracted, aperture-corrected\n",
    "flux_aper_w D 0.1-10 keV HRC flux, bkg-subtracted, aperture-corrected\n",
    "\n",
    "_lolim_x and _hilim_x are the 68% confidence limits for band x\n",
    "'''\n",
    "\n",
    "###\n",
    "# Erosita fluxes\n",
    "# Band of interest, with:\n",
    "# 0.2-0.6 keV (soft): 021\n",
    "# 0.6-2.3 keV (medium): 022\n",
    "# 2.3-5.0 keV (hard): 023\n",
    "# 0.2-5.0 keV (summed three-band): 02e\n",
    "###"
   ]
  },
  {
   "cell_type": "code",
   "execution_count": null,
   "metadata": {},
   "outputs": [],
   "source": []
  }
 ],
 "metadata": {
  "kernelspec": {
   "display_name": "ciao-4.16",
   "language": "python",
   "name": "python3"
  },
  "language_info": {
   "codemirror_mode": {
    "name": "ipython",
    "version": 3
   },
   "file_extension": ".py",
   "mimetype": "text/x-python",
   "name": "python",
   "nbconvert_exporter": "python",
   "pygments_lexer": "ipython3",
   "version": "3.11.9"
  }
 },
 "nbformat": 4,
 "nbformat_minor": 2
}
