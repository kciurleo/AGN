{
 "cells": [
  {
   "cell_type": "code",
   "execution_count": 5,
   "metadata": {},
   "outputs": [],
   "source": [
    "import numpy as np\n",
    "import pandas as pd\n",
    "from astropy.io import votable\n",
    "import matplotlib.pyplot as plt"
   ]
  },
  {
   "cell_type": "code",
   "execution_count": 2,
   "metadata": {},
   "outputs": [
    {
     "name": "stderr",
     "output_type": "stream",
     "text": [
      "/var/folders/6x/hz5y30457mqg1y9dl2fg7r5m00034d/T/ipykernel_34735/1910351754.py:1: DtypeWarning: Columns (57,61,62) have mixed types. Specify dtype option on import or set low_memory=False.\n",
      "  csc21=pd.read_csv(\"/Users/kciurleo/Documents/kciurleo/AGN/csvs/CSC2.1p_OIR_SDSSspecmatch.csv\")\n"
     ]
    }
   ],
   "source": [
    "csc21=pd.read_csv(\"/Users/kciurleo/Documents/kciurleo/AGN/csvs/CSC2.1p_OIR_SDSSspecmatch.csv\")"
   ]
  },
  {
   "cell_type": "code",
   "execution_count": 27,
   "metadata": {},
   "outputs": [],
   "source": [
    "erosita = votable.parse_single_table('/Users/kciurleo/Documents/kciurleo/AGN/csvs/upper_limits.vot').to_table().to_pandas()"
   ]
  },
  {
   "cell_type": "code",
   "execution_count": 16,
   "metadata": {},
   "outputs": [],
   "source": [
    "seyferts = pd.read_csv(\"/Users/kciurleo/Documents/kciurleo/AGN/csvs/seyferts.csv\")"
   ]
  },
  {
   "cell_type": "code",
   "execution_count": 29,
   "metadata": {},
   "outputs": [],
   "source": [
    "full_data=pd.merge(seyferts, erosita, on=['PLATE','FIBERID','MJD'], how='left')"
   ]
  },
  {
   "cell_type": "code",
   "execution_count": 46,
   "metadata": {},
   "outputs": [
    {
     "data": {
      "text/plain": [
       "59.093502044677734"
      ]
     },
     "execution_count": 46,
     "metadata": {},
     "output_type": "execute_result"
    }
   ],
   "source": [
    "np.min(full_data['Exposure_02e'])"
   ]
  },
  {
   "cell_type": "code",
   "execution_count": 38,
   "metadata": {},
   "outputs": [
    {
     "data": {
      "text/plain": [
       "6.7155115941602e-14"
      ]
     },
     "execution_count": 38,
     "metadata": {},
     "output_type": "execute_result"
    }
   ],
   "source": [
    "np.max(full_data['flux_aper_w'])"
   ]
  },
  {
   "cell_type": "code",
   "execution_count": 25,
   "metadata": {},
   "outputs": [
    {
     "data": {
      "text/plain": [
       "''"
      ]
     },
     "execution_count": 25,
     "metadata": {},
     "output_type": "execute_result"
    }
   ],
   "source": [
    "'''\n",
    "Chandra fluxes, erg cm-2 s−1\n",
    "\n",
    "flux_aper_b D 0.5-7keV ACIS flux, bkg-subtracted, aperture-corrected\n",
    "flux_aper_h D 2-7 keV ACIS flux, bkg-subtracted, aperture-corrected\n",
    "flux_aper_m D 1.2-2 keV ACIS flux, bkg-subtracted, aperture-corrected\n",
    "flux_aper_s D 0.5-1.2 keV ACIS flux, bkg-subtracted, aperture-corrected\n",
    "flux_aper_w D 0.1-10 keV HRC flux, bkg-subtracted, aperture-corrected\n",
    "\n",
    "_lolim_x and _hilim_x are the 68% confidence limits for band x\n",
    "'''\n",
    "\n",
    "###\n",
    "# Erosita fluxes, in  erg s−1 cm−2\n",
    "# Band of interest, with:\n",
    "# 0.2-0.6 keV (soft): 021\n",
    "# 0.6-2.3 keV (medium): 022\n",
    "# 2.3-5.0 keV (hard): 023\n",
    "# 0.2-5.0 keV (summed three-band): 02e\n",
    "###"
   ]
  },
  {
   "cell_type": "code",
   "execution_count": 49,
   "metadata": {},
   "outputs": [],
   "source": [
    "cone_search=pd.read_csv(\"/Users/kciurleo/Documents/kciurleo/AGN/csvs/topcat_erosita.csv\")"
   ]
  },
  {
   "cell_type": "code",
   "execution_count": 57,
   "metadata": {},
   "outputs": [
    {
     "data": {
      "text/plain": [
       "0.0005147484709948107"
      ]
     },
     "execution_count": 57,
     "metadata": {},
     "output_type": "execute_result"
    }
   ],
   "source": [
    "np.max(cone_search['Separation'])"
   ]
  },
  {
   "cell_type": "code",
   "execution_count": 58,
   "metadata": {},
   "outputs": [
    {
     "data": {
      "text/plain": [
       "Index(['ra', 'dec', 'IAUstripped', 'MJD', 'FIBERID', 'PLATE', 'iauname',\n",
       "       'detuid', 'skytile', 'id_src', 'uid', 'ra_cone', 'dec_cone',\n",
       "       'ra_lowerr', 'ra_uperr', 'dec_lowerr', 'dec_uperr', 'pos_err',\n",
       "       'radec_err', 'ext', 'ext_err', 'ext_lowerr', 'ext_uperr', 'ext_like',\n",
       "       'det_like_0', 'ml_cts_1', 'ml_cts_err_1', 'ml_cts_lowerr_1',\n",
       "       'ml_cts_uperr_1', 'ml_rate_1', 'ml_rate_err_1', 'ml_rate_lowerr_1',\n",
       "       'ml_rate_uperr_1', 'ml_flux_1', 'ml_flux_err_1', 'ml_flux_lowerr_1',\n",
       "       'ml_flux_uperr_1', 'ml_bkg_1', 'ml_exp_1', 'flag_sp_snr', 'flag_sp_bps',\n",
       "       'flag_sp_scl', 'flag_sp_lga', 'flag_sp_gc_cons', 'flag_no_radec_err',\n",
       "       'flag_no_ext_err', 'flag_no_cts_err', 'Separation'],\n",
       "      dtype='object')"
      ]
     },
     "execution_count": 58,
     "metadata": {},
     "output_type": "execute_result"
    }
   ],
   "source": [
    "cone_search.columns"
   ]
  },
  {
   "cell_type": "code",
   "execution_count": 61,
   "metadata": {},
   "outputs": [
    {
     "data": {
      "text/plain": [
       "(array([9., 0., 0., 0., 1., 3., 1., 0., 0., 4.]),\n",
       " array([6.03319424e-05, 1.05773595e-04, 1.51215248e-04, 1.96656901e-04,\n",
       "        2.42098554e-04, 2.87540207e-04, 3.32981860e-04, 3.78423512e-04,\n",
       "        4.23865165e-04, 4.69306818e-04, 5.14748471e-04]),\n",
       " <BarContainer object of 10 artists>)"
      ]
     },
     "execution_count": 61,
     "metadata": {},
     "output_type": "execute_result"
    },
    {
     "data": {
      "image/png": "[encoded data removed]",
      "text/plain": [
       "<Figure size 640x480 with 1 Axes>"
      ]
     },
     "metadata": {},
     "output_type": "display_data"
    }
   ],
   "source": [
    "plt.hist(cone_search['Separation'])"
   ]
  }
 ],
 "metadata": {
  "kernelspec": {
   "display_name": "ciao-4.16",
   "language": "python",
   "name": "python3"
  },
  "language_info": {
   "codemirror_mode": {
    "name": "ipython",
    "version": 3
   },
   "file_extension": ".py",
   "mimetype": "text/x-python",
   "name": "python",
   "nbconvert_exporter": "python",
   "pygments_lexer": "ipython3",
   "version": "3.11.9"
  }
 },
 "nbformat": 4,
 "nbformat_minor": 2
}
